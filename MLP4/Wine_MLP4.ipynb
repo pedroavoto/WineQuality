{
 "cells": [
  {
   "cell_type": "code",
   "execution_count": 335,
   "metadata": {},
   "outputs": [],
   "source": [
    "# Python ≥3.5 is required\n",
    "import sys\n",
    "assert sys.version_info >= (3, 5)\n",
    "\n",
    "# Scikit-Learn ≥0.20 is required\n",
    "import sklearn\n",
    "assert sklearn.__version__ >= \"0.20\"\n",
    "\n",
    "# Common imports\n",
    "import numpy as np\n",
    "import pandas as pd\n",
    "import os\n",
    "# from sklearn.metrics import confusion_matrix\n",
    "# from sklearn.metrics import classification_report\n",
    "from sklearn.model_selection import train_test_split\n",
    "\n",
    "# To plot pretty figures\n",
    "%matplotlib inline\n",
    "import matplotlib as mpl\n",
    "import matplotlib.pyplot as plt\n",
    "mpl.rc('axes', labelsize=14)\n",
    "mpl.rc('xtick', labelsize=12)\n",
    "mpl.rc('ytick', labelsize=12)\n",
    "\n",
    "\n",
    "# to make this notebook's output stable across runs\n",
    "np.random.seed(42)\n",
    "\n",
    "# Where to save the figures\n",
    "PROJECT_ROOT_DIR = \".\"\n",
    "CHAPTER_ID = \"Linear Regression\"\n",
    "IMAGES_PATH = os.path.join(PROJECT_ROOT_DIR, \"images\", CHAPTER_ID)\n",
    "\n",
    "os.makedirs(IMAGES_PATH, exist_ok=True)\n",
    "\n",
    "def save_fig(fig_id, tight_layout=True, fig_extension=\"png\", resolution=300):\n",
    "    path = os.path.join(IMAGES_PATH, fig_id + \".\" + fig_extension)\n",
    "    print(\"Saving figure\", fig_id)\n",
    "    if tight_layout:\n",
    "        plt.tight_layout()\n",
    "    plt.savefig(path, format=fig_extension, dpi=resolution)\n",
    "    \n",
    "pd.options.display.float_format = '{:,.4f}'.format\n",
    "\n",
    "wineWhite = pd.read_csv('./processeddata/WhiteWine.csv', skipinitialspace=True, index_col=0)\n",
    "wineRed = pd.read_csv('./processeddata/RedWine.csv', skipinitialspace=True, index_col=0)"
   ]
  },
  {
   "cell_type": "markdown",
   "metadata": {},
   "source": [
    "### Splitting up test and training set"
   ]
  },
  {
   "cell_type": "code",
   "execution_count": 336,
   "metadata": {},
   "outputs": [],
   "source": [
    "X_wineWhite_help = wineWhite.loc[:, wineWhite.columns != \"Categorical Quality\"]\n",
    "X_wineWhite = X_wineWhite_help.loc[:, X_wineWhite_help.columns != \"quality\"]\n",
    "X_wineWhite = X_wineWhite.loc[:, X_wineWhite.columns != 'alcohol']\n",
    "y_wineWhite = wineWhite[\"alcohol\"]"
   ]
  },
  {
   "cell_type": "code",
   "execution_count": 337,
   "metadata": {},
   "outputs": [],
   "source": [
    "X_wineRed_help = wineRed.loc[:, wineRed.columns != \"Categorical Quality\"]\n",
    "X_wineRed = X_wineRed_help.loc[:, X_wineRed_help.columns != \"quality\"]\n",
    "X_wineRed = X_wineRed.loc[:, X_wineRed.columns != 'alcohol']\n",
    "y_wineRed = wineRed[\"alcohol\"]"
   ]
  },
  {
   "cell_type": "code",
   "execution_count": 338,
   "metadata": {},
   "outputs": [],
   "source": [
    "X_wineWhite_train, X_wineWhite_test, y_wineWhite_train, y_wineWhite_test = train_test_split(X_wineWhite, y_wineWhite, test_size=0.2)\n"
   ]
  },
  {
   "cell_type": "code",
   "execution_count": 339,
   "metadata": {},
   "outputs": [],
   "source": [
    "X_wineRed_train, X_wineRed_test, y_wineRed_train, y_wineRed_test = train_test_split(X_wineRed, y_wineRed, test_size=0.2)\n"
   ]
  },
  {
   "cell_type": "markdown",
   "metadata": {},
   "source": [
    "### (a) K-Cross Validation for Multivariate Linear Regression Modeling"
   ]
  },
  {
   "cell_type": "markdown",
   "metadata": {},
   "source": [
    "### White Wine"
   ]
  },
  {
   "cell_type": "code",
   "execution_count": 340,
   "metadata": {},
   "outputs": [
    {
     "name": "stdout",
     "output_type": "stream",
     "text": [
      "round:  1\n",
      "White Wine dataset\n",
      "R-squared score (training): 0.844\n",
      "R-squared score (validation test): 0.901\n",
      "RMSE: 0.377\n",
      "linear model intercept: 664.049231140239\n",
      "linear model coeff:\n",
      "[ 5.09928443e-01  1.00248232e+00  4.48683659e-01  2.39535098e-01\n",
      " -8.26924002e-01 -3.51714761e-03 -1.11617158e-04 -6.71045253e+02\n",
      "  2.42544601e+00  1.04884575e+00]\n",
      "Number of non-zero features: 10\n",
      "**************************************************************\n",
      "round:  2\n",
      "White Wine dataset\n",
      "R-squared score (training): 0.842\n",
      "R-squared score (validation test): 0.913\n",
      "RMSE: 0.366\n",
      "linear model intercept: 666.7805084001834\n",
      "linear model coeff:\n",
      "[ 5.10056720e-01  9.55275139e-01  4.75807247e-01  2.42122904e-01\n",
      " -5.32829244e-01 -3.73211751e-03 -1.77713121e-06 -6.73863732e+02\n",
      "  2.43933423e+00  1.03655756e+00]\n",
      "Number of non-zero features: 10\n",
      "**************************************************************\n",
      "round:  3\n",
      "White Wine dataset\n",
      "R-squared score (training): 0.842\n",
      "R-squared score (validation test): 0.911\n",
      "RMSE: 0.378\n",
      "linear model intercept: 666.8193611123611\n",
      "linear model coeff:\n",
      "[ 5.11485963e-01  1.03480021e+00  4.92299287e-01  2.42032316e-01\n",
      " -5.32227386e-01 -3.57787821e-03  9.59198928e-05 -6.73961530e+02\n",
      "  2.44211134e+00  1.02865032e+00]\n",
      "Number of non-zero features: 10\n",
      "**************************************************************\n",
      "round:  4\n",
      "White Wine dataset\n",
      "R-squared score (training): 0.843\n",
      "R-squared score (validation test): 0.904\n",
      "RMSE: 0.384\n",
      "linear model intercept: 664.9042368429451\n",
      "linear model coeff:\n",
      "[ 5.16422954e-01  9.73850058e-01  4.55964576e-01  2.40530131e-01\n",
      " -5.24360108e-01 -3.67852778e-03 -8.25380580e-05 -6.72036478e+02\n",
      "  2.44418856e+00  1.07978337e+00]\n",
      "Number of non-zero features: 10\n",
      "**************************************************************\n",
      "round:  5\n",
      "White Wine dataset\n",
      "R-squared score (training): 0.844\n",
      "R-squared score (validation test): 0.902\n",
      "RMSE: 0.373\n",
      "linear model intercept: 664.5504783911877\n",
      "linear model coeff:\n",
      "[ 5.07090574e-01  1.01784285e+00  4.64572710e-01  2.40241124e-01\n",
      " -5.14613338e-01 -3.38415426e-03 -8.64054426e-05 -6.71546674e+02\n",
      "  2.42095434e+00  1.03999120e+00]\n",
      "Number of non-zero features: 10\n",
      "**************************************************************\n",
      "round:  6\n",
      "White Wine dataset\n",
      "R-squared score (training): 0.844\n",
      "R-squared score (validation test): 0.902\n",
      "RMSE: 0.375\n",
      "linear model intercept: 667.1138270682624\n",
      "linear model coeff:\n",
      "[ 5.08762595e-01  1.05531203e+00  4.66805069e-01  2.41569258e-01\n",
      " -5.99988792e-01 -3.49984493e-03 -2.20452565e-05 -6.74222663e+02\n",
      "  2.43909512e+00  1.05483031e+00]\n",
      "Number of non-zero features: 10\n",
      "**************************************************************\n",
      "round:  7\n",
      "White Wine dataset\n",
      "R-squared score (training): 0.846\n",
      "R-squared score (validation test): 0.883\n",
      "RMSE: 0.432\n",
      "linear model intercept: 669.5278706280658\n",
      "linear model coeff:\n",
      "[ 5.17634891e-01  1.05811774e+00  4.70104483e-01  2.40935524e-01\n",
      " -4.28577211e-01 -3.47415971e-03  8.58090038e-05 -6.76795635e+02\n",
      "  2.45574284e+00  1.06736703e+00]\n",
      "Number of non-zero features: 10\n",
      "**************************************************************\n",
      "round:  8\n",
      "White Wine dataset\n",
      "R-squared score (training): 0.846\n",
      "R-squared score (validation test): 0.885\n",
      "RMSE: 0.414\n",
      "linear model intercept: 668.3568076559891\n",
      "linear model coeff:\n",
      "[ 5.09042221e-01  1.02988015e+00  4.29320298e-01  2.43113166e-01\n",
      " -4.90895593e-01 -3.50999600e-03 -8.30774381e-05 -6.75510517e+02\n",
      "  2.46290360e+00  1.00346975e+00]\n",
      "Number of non-zero features: 10\n",
      "**************************************************************\n",
      "round:  9\n",
      "White Wine dataset\n",
      "R-squared score (training): 0.908\n",
      "R-squared score (validation test): 0.221\n",
      "RMSE: 1.054\n",
      "linear model intercept: 725.8462707236231\n",
      "linear model coeff:\n",
      "[ 5.57565179e-01  5.69001469e-01  2.72843894e-01  2.50270639e-01\n",
      "  4.35885479e-01 -3.66322724e-03  1.68894454e-03 -7.33772513e+02\n",
      "  2.44330397e+00  9.86083753e-01]\n",
      "Number of non-zero features: 10\n",
      "**************************************************************\n",
      "round:  10\n",
      "White Wine dataset\n",
      "R-squared score (training): 0.847\n",
      "R-squared score (validation test): 0.881\n",
      "RMSE: 0.380\n",
      "linear model intercept: 668.9176987588644\n",
      "linear model coeff:\n",
      "[ 5.11023249e-01  1.00859007e+00  4.71593873e-01  2.42085645e-01\n",
      " -5.50193469e-01 -3.53652738e-03 -3.83075310e-05 -6.76049476e+02\n",
      "  2.43884622e+00  1.07247202e+00]\n",
      "Number of non-zero features: 10\n",
      "**************************************************************\n",
      "Average White Wine Dataset\n",
      "R-Squared score mean (training):  0.8508023235880522\n",
      "R-Squared score mean (validation):  0.8303609590409877\n",
      "RMSE mean:  0.45322193405432126\n"
     ]
    }
   ],
   "source": [
    "from sklearn.linear_model import LinearRegression\n",
    "from sklearn import metrics\n",
    "from sklearn.model_selection import KFold\n",
    "\n",
    "kf = KFold(n_splits=10, random_state=None, shuffle=True)\n",
    "R_Squared_score_training = []\n",
    "R_Squared_score_validation = []\n",
    "RMSE = []\n",
    "\n",
    "count = 1\n",
    "for train_index, test_index in kf.split(X_wineWhite_train):\n",
    "\n",
    "    X_train_cv, X_test_cv = X_wineWhite_train.iloc[train_index], X_wineWhite_train.iloc[test_index]\n",
    "    y_train_cv, y_test_cv = y_wineWhite_train.iloc[train_index], y_wineWhite_train.iloc[test_index]\n",
    "\n",
    "    print('round: ', count)\n",
    "    count = count + 1\n",
    "    linreg = LinearRegression().fit(X_train_cv, y_train_cv)\n",
    "\n",
    "    print('White Wine dataset')\n",
    "    print('R-squared score (training): {:.3f}'.format(linreg.score(X_train_cv, y_train_cv)))\n",
    "    R_Squared_score_training.append(linreg.score(X_train_cv, y_train_cv))\n",
    "    print('R-squared score (validation test): {:.3f}'.format(linreg.score(X_test_cv, y_test_cv)))\n",
    "    R_Squared_score_validation.append(linreg.score(X_test_cv, y_test_cv))\n",
    "    \n",
    "    # make predictions on the testing set\n",
    "    y_pred = linreg.predict(X_test_cv)\n",
    "    print('RMSE: {:.3f}'.format(np.sqrt(metrics.mean_squared_error(y_test_cv, y_pred))))\n",
    "    RMSE.append(np.sqrt(metrics.mean_squared_error(y_test_cv, y_pred)))                                  \n",
    "\n",
    "    print('linear model intercept: {}'.format(linreg.intercept_))\n",
    "    print('linear model coeff:\\n{}'.format(linreg.coef_))\n",
    "\n",
    "    print('Number of non-zero features: {}'.format(np.sum(linreg.coef_ != 0)))\n",
    "    print('**************************************************************')\n",
    "\n",
    "print(\"Average White Wine Dataset\")\n",
    "R_Squared_score_training_mean = sum(R_Squared_score_training)/10\n",
    "print(\"R-Squared score mean (training): \", R_Squared_score_training_mean)\n",
    "                \n",
    "R_Squared_score_validation_mean = sum(R_Squared_score_validation)/10\n",
    "print(\"R-Squared score mean (validation): \", R_Squared_score_validation_mean)\n",
    "                \n",
    "RMSE_mean = sum(RMSE)/10\n",
    "print(\"RMSE mean: \", RMSE_mean)\n",
    "\n"
   ]
  },
  {
   "cell_type": "code",
   "execution_count": 341,
   "metadata": {
    "scrolled": true
   },
   "outputs": [
    {
     "name": "stdout",
     "output_type": "stream",
     "text": [
      "[[-0.66998957 -0.34796417 -0.3736056  -0.37924015 -0.35902235 -0.37814782\n",
      "  -0.3606245  -0.37820161 -0.64527577 -0.34640043]\n",
      " [-0.63294097 -0.35329215 -0.36482757 -0.38300941 -0.37535377 -0.37424965\n",
      "  -0.35899812 -0.37407879 -0.62278257 -0.34669438]\n",
      " [-0.59588421 -0.35822459 -0.36531498 -0.37632324 -0.37259826 -0.37834678\n",
      "  -0.36093498 -0.37054933 -0.59326332 -0.3541422 ]\n",
      " [-0.57061179 -0.35135971 -0.3596067  -0.3745407  -0.36430748 -0.37117546\n",
      "  -0.36544731 -0.36733458 -0.57251206 -0.35829665]\n",
      " [-0.55219943 -0.36195361 -0.36513683 -0.37110883 -0.36228086 -0.37020277\n",
      "  -0.36862521 -0.36898743 -0.55414475 -0.36171223]\n",
      " [-0.54346639 -0.36106552 -0.36286214 -0.36858514 -0.37681581 -0.37199567\n",
      "  -0.36841323 -0.37117864 -0.54037798 -0.36441329]\n",
      " [-0.52772406 -0.36632936 -0.36321919 -0.53341048 -0.37211456 -0.37001679\n",
      "  -0.36741512 -0.36691323 -0.52949113 -0.37184551]\n",
      " [-0.51644141 -0.37188724 -0.37216187 -0.51967916 -0.37116089 -0.36995378\n",
      "  -0.51107078 -0.5114429  -0.51907854 -0.37315753]\n",
      " [-0.50508705 -0.37125681 -0.3693316  -0.509382   -0.50470464 -0.36873119\n",
      "  -0.50101353 -0.49983057 -0.50875977 -0.3775547 ]\n",
      " [-0.49426005 -0.50027428 -0.36601788 -0.49910752 -0.49768201 -0.36786582\n",
      "  -0.49430796 -0.4926848  -0.49971498 -0.37632255]]\n",
      "[[-0.53482065 -0.37593351 -0.39102051 -0.36678157 -0.36528141 -0.40198392\n",
      "  -0.37123041 -0.36801649 -0.56777065 -1.06464331]\n",
      " [-0.4804062  -0.37589945 -0.3897869  -0.36348515 -0.36495322 -0.40096513\n",
      "  -0.37277258 -0.36900055 -0.51916344 -1.05719517]\n",
      " [-0.4583578  -0.37823422 -0.38860423 -0.36230131 -0.36421022 -0.39792928\n",
      "  -0.37166089 -0.36923505 -0.48285557 -1.06704018]\n",
      " [-0.44200602 -0.38075325 -0.38914826 -0.36430483 -0.36312513 -0.3977813\n",
      "  -0.37267529 -0.36963489 -0.46278746 -1.06267973]\n",
      " [-0.42896211 -0.3804159  -0.38981096 -0.36281534 -0.36294016 -0.398875\n",
      "  -0.37301168 -0.37112902 -0.44802645 -1.06191393]\n",
      " [-0.41597247 -0.38156228 -0.39007489 -0.36304114 -0.36351565 -0.39922184\n",
      "  -0.37255209 -0.37008322 -0.43449114 -1.0542502 ]\n",
      " [-0.4089393  -0.37996714 -0.38951357 -0.39788047 -0.3630191  -0.39858036\n",
      "  -0.37137771 -0.37086122 -0.42177828 -1.04095746]\n",
      " [-0.4020103  -0.37920109 -0.38836859 -0.39299639 -0.36280931 -0.39946502\n",
      "  -0.42176857 -0.41555764 -0.41499286 -1.0410526 ]\n",
      " [-0.397349   -0.37832586 -0.38824664 -0.38810761 -0.39346443 -0.39995011\n",
      "  -0.41530772 -0.40785786 -0.40915749 -1.03869646]\n",
      " [-0.39337197 -0.38820415 -0.38807779 -0.38546499 -0.389649   -0.40049794\n",
      "  -0.40922956 -0.40349218 -0.40467267 -1.04034934]]\n"
     ]
    },
    {
     "data": {
      "image/png": "[encoded data removed]",
      "text/plain": [
       "<Figure size 720x360 with 1 Axes>"
      ]
     },
     "metadata": {
      "needs_background": "light"
     },
     "output_type": "display_data"
    }
   ],
   "source": [
    "from sklearn.model_selection import learning_curve\n",
    "\n",
    "linreg = LinearRegression().fit(X_wineWhite_train, y_wineWhite_train)\n",
    "train_sizes = np.linspace(0.2,0.8,10)\n",
    "train_sizes, train_RMSE, test_RMSE = learning_curve(linreg, X_wineWhite_train, y_wineWhite_train, train_sizes = train_sizes, \n",
    "                                scoring='neg_root_mean_squared_error',cv=10, shuffle = True)\n",
    "\n",
    "print(train_RMSE)\n",
    "print(test_RMSE)\n",
    "\n",
    "train_scores_mean = np.mean(train_RMSE, axis=1)\n",
    "test_scores_mean = np.mean(test_RMSE, axis=1)\n",
    "\n",
    "# Plot learning curve\n",
    "fig, ax = plt.subplots(1, 1, figsize=(10, 5))\n",
    "    \n",
    "ax.set_title('Linear Regression Learning Curve')\n",
    "ax.set_xlabel(\"Training examples\")\n",
    "ax.set_ylabel(\"Score (neg RMSE)\")\n",
    "ax.grid()\n",
    "\n",
    "ax.plot(train_sizes, train_scores_mean, 'o-', color=\"r\", label=\"Training score\")\n",
    "ax.plot(train_sizes, test_scores_mean, 'o-', color=\"g\", label=\"Cross-validation score\")\n",
    "ax.legend(loc=\"best\")\n",
    "\n",
    "plt.show()"
   ]
  },
  {
   "cell_type": "markdown",
   "metadata": {},
   "source": [
    "### Modeling with test set"
   ]
  },
  {
   "cell_type": "code",
   "execution_count": 342,
   "metadata": {},
   "outputs": [
    {
     "name": "stdout",
     "output_type": "stream",
     "text": [
      "White Wine dataset\n",
      "R-squared score (test set): 0.899\n",
      "RMSE: 0.390\n",
      "linear model intercept: 726.0297442057547\n",
      "linear model coeff:\n",
      "[ 4.90232200e-01  5.23568008e-01  3.22284851e-01  2.47987096e-01\n",
      "  3.23226964e-01 -3.01390250e-03  1.26145639e-03 -7.33182989e+02\n",
      "  2.36064763e+00  9.32946905e-01]\n",
      "Number of non-zero features: 10\n",
      "**************************************************************\n"
     ]
    }
   ],
   "source": [
    "from sklearn.linear_model import LinearRegression\n",
    "from sklearn import metrics\n",
    "\n",
    "\n",
    "linreg = LinearRegression().fit(X_wineWhite_test, y_wineWhite_test)\n",
    "\n",
    "print('White Wine dataset')\n",
    "print('R-squared score (test set): {:.3f}'.format(linreg.score(X_wineWhite_test, y_wineWhite_test)))\n",
    "#R_Squared_score_training.append(linreg.score(X_wineWhite_test, y_wineWhite_test))\n",
    "#print('R-squared score (validation test): {:.3f}'.format(linreg.score(X_wineWhite_test, y_wineWhite_test)))\n",
    "#R_Squared_score_validation.append(linreg.score(X_wineWhite_test, y_wineWhite_test))\n",
    "\n",
    "# make predictions on the testing set\n",
    "y_pred = linreg.predict(X_wineWhite_test)\n",
    "print('RMSE: {:.3f}'.format(np.sqrt(metrics.mean_squared_error(y_wineWhite_test, y_pred))))\n",
    "#RMSE.append(np.sqrt(metrics.mean_squared_error(y_wineWhite_test, y_pred)))                                  \n",
    "\n",
    "print('linear model intercept: {}'.format(linreg.intercept_))\n",
    "print('linear model coeff:\\n{}'.format(linreg.coef_))\n",
    "\n",
    "print('Number of non-zero features: {}'.format(np.sum(linreg.coef_ != 0)))\n",
    "print('**************************************************************')\n",
    "\n"
   ]
  },
  {
   "cell_type": "code",
   "execution_count": 343,
   "metadata": {},
   "outputs": [
    {
     "name": "stdout",
     "output_type": "stream",
     "text": [
      "[[-0.38871943 -0.37816721 -0.39836802 -0.6354147  -0.37473578 -0.37584237\n",
      "  -0.36792697 -0.41301121 -0.37329537 -0.36212671]\n",
      " [-0.37918541 -0.38864344 -0.39157523 -0.59272635 -0.37200623 -0.3754471\n",
      "  -0.37256276 -0.4111949  -0.36456103 -0.37693591]\n",
      " [-0.40428206 -0.56592901 -0.38532002 -0.56368528 -0.37307411 -0.37587961\n",
      "  -0.38087481 -0.39976621 -0.36843737 -0.3734562 ]\n",
      " [-0.5539039  -0.54817288 -0.37813902 -0.54016718 -0.5537502  -0.38213753\n",
      "  -0.37939617 -0.39217517 -0.3817892  -0.39239734]\n",
      " [-0.53724448 -0.54058809 -0.38171833 -0.52614992 -0.53624299 -0.37463596\n",
      "  -0.38955533 -0.38447566 -0.38291208 -0.38713846]\n",
      " [-0.5201058  -0.52553099 -0.37485625 -0.51196535 -0.52402193 -0.37436346\n",
      "  -0.388659   -0.38440429 -0.38309169 -0.52727155]\n",
      " [-0.50771584 -0.51224987 -0.37217495 -0.50063241 -0.50994824 -0.37258251\n",
      "  -0.38441943 -0.37948361 -0.38118729 -0.51223822]\n",
      " [-0.49808981 -0.50248484 -0.37255795 -0.49059495 -0.50183195 -0.3775112\n",
      "  -0.38241843 -0.38016584 -0.51194986 -0.50208471]\n",
      " [-0.48717605 -0.49445034 -0.36974644 -0.4806684  -0.49266316 -0.3760433\n",
      "  -0.4934364  -0.37984839 -0.50037562 -0.49133635]\n",
      " [-0.47966387 -0.48650022 -0.37785129 -0.47297646 -0.48444314 -0.37328452\n",
      "  -0.48785812 -0.48433652 -0.49193741 -0.48342841]]\n",
      "[[-0.39619765 -0.36809244 -0.46382163 -0.53152675 -0.38076102 -0.94487936\n",
      "  -0.34042884 -0.39445204 -0.30916941 -0.37371114]\n",
      " [-0.39404173 -0.3680351  -0.45122722 -0.50880742 -0.37385864 -0.95516053\n",
      "  -0.33559121 -0.39169292 -0.30184616 -0.37428122]\n",
      " [-0.39597545 -0.44596141 -0.44967903 -0.49143633 -0.37638099 -0.95493228\n",
      "  -0.33415532 -0.39132796 -0.29849319 -0.3751044 ]\n",
      " [-0.49752852 -0.43068068 -0.44168301 -0.48228984 -0.38934874 -0.94740117\n",
      "  -0.33304687 -0.38772685 -0.30055172 -0.37532006]\n",
      " [-0.476095   -0.41782148 -0.4358908  -0.47772521 -0.38162677 -0.94920829\n",
      "  -0.33494921 -0.3875708  -0.29952441 -0.37541837]\n",
      " [-0.46410448 -0.40977028 -0.43181423 -0.47308869 -0.37525735 -0.95309387\n",
      "  -0.33419197 -0.38817484 -0.29936157 -0.41170506]\n",
      " [-0.45311904 -0.40096513 -0.42872043 -0.4700125  -0.37318078 -0.95157669\n",
      "  -0.33521235 -0.38842483 -0.29809648 -0.40548469]\n",
      " [-0.44431706 -0.39360308 -0.42899609 -0.46739593 -0.37080149 -0.94680505\n",
      "  -0.33332381 -0.38812831 -0.34834279 -0.40032303]\n",
      " [-0.44112808 -0.39022128 -0.42613285 -0.46532239 -0.36941729 -0.95107092\n",
      "  -0.36256926 -0.38818841 -0.34156454 -0.39763005]\n",
      " [-0.43711958 -0.38634173 -0.4262741  -0.46436106 -0.36846001 -0.95256653\n",
      "  -0.35945976 -0.39917344 -0.3388989  -0.39352127]]\n"
     ]
    },
    {
     "data": {
      "image/png": "[encoded data removed]",
      "text/plain": [
       "<Figure size 720x360 with 1 Axes>"
      ]
     },
     "metadata": {
      "needs_background": "light"
     },
     "output_type": "display_data"
    }
   ],
   "source": [
    "from sklearn.model_selection import learning_curve\n",
    "\n",
    "linreg = LinearRegression().fit(X_wineWhite, y_wineWhite)\n",
    "train_sizes = np.linspace(0.2,0.8,10)\n",
    "train_sizes, train_RMSE, test_RMSE = learning_curve(linreg, X_wineWhite, y_wineWhite, train_sizes = train_sizes, \n",
    "                                scoring='neg_root_mean_squared_error',cv=10, shuffle = True)\n",
    "\n",
    "print(train_RMSE)\n",
    "print(test_RMSE)\n",
    "\n",
    "train_scores_mean = np.mean(train_RMSE, axis=1)\n",
    "test_scores_mean = np.mean(test_RMSE, axis=1)\n",
    "\n",
    "# Plot learning curve\n",
    "fig, ax = plt.subplots(1, 1, figsize=(10, 5))\n",
    "    \n",
    "ax.set_title('Linear Regression Learning Curve')\n",
    "ax.set_xlabel(\"Training examples\")\n",
    "ax.set_ylabel(\"Score (neg RMSE)\")\n",
    "ax.grid()\n",
    "\n",
    "ax.plot(train_sizes, train_scores_mean, 'o-', color=\"r\", label=\"Training score\")\n",
    "ax.plot(train_sizes, test_scores_mean, 'o-', color=\"g\", label=\"Test score\")\n",
    "ax.legend(loc=\"best\")\n",
    "\n",
    "plt.show()"
   ]
  },
  {
   "cell_type": "markdown",
   "metadata": {},
   "source": [
    "### Red Wine"
   ]
  },
  {
   "cell_type": "code",
   "execution_count": 344,
   "metadata": {},
   "outputs": [
    {
     "name": "stdout",
     "output_type": "stream",
     "text": [
      "round:  1\n",
      "White Wine dataset\n",
      "R-squared score (training): 0.673\n",
      "R-squared score (validation test): 0.692\n",
      "RMSE: 0.602\n",
      "linear model intercept: 604.9605734900196\n",
      "linear model coeff:\n",
      "[ 5.35069313e-01  2.44370639e-01  6.22997355e-01  2.74415173e-01\n",
      " -1.10056638e+00 -2.18872481e-03 -2.73022096e-03 -6.15105436e+02\n",
      "  3.77760293e+00  1.30569367e+00]\n",
      "Number of non-zero features: 10\n",
      "**************************************************************\n",
      "round:  2\n",
      "White Wine dataset\n",
      "R-squared score (training): 0.682\n",
      "R-squared score (validation test): 0.608\n",
      "RMSE: 0.650\n",
      "linear model intercept: 610.1664859908282\n",
      "linear model coeff:\n",
      "[ 5.46341294e-01  2.08508706e-01  6.18175046e-01  2.77563812e-01\n",
      " -1.14372689e+00 -3.24295748e-03 -2.42117686e-03 -6.20530274e+02\n",
      "  3.80547874e+00  1.35486103e+00]\n",
      "Number of non-zero features: 10\n",
      "**************************************************************\n",
      "round:  3\n",
      "White Wine dataset\n",
      "R-squared score (training): 0.661\n",
      "R-squared score (validation test): 0.741\n",
      "RMSE: 0.665\n",
      "linear model intercept: 604.6947194697183\n",
      "linear model coeff:\n",
      "[ 5.62417460e-01  1.98969434e-01  4.84757807e-01  2.85032642e-01\n",
      " -9.66026320e-01 -2.08521794e-03 -2.72465977e-03 -6.15008020e+02\n",
      "  3.78094584e+00  1.22940361e+00]\n",
      "Number of non-zero features: 10\n",
      "**************************************************************\n",
      "round:  4\n",
      "White Wine dataset\n",
      "R-squared score (training): 0.681\n",
      "R-squared score (validation test): 0.594\n",
      "RMSE: 0.618\n",
      "linear model intercept: 610.8831409038038\n",
      "linear model coeff:\n",
      "[ 5.27219447e-01  1.58114946e-01  6.92387966e-01  2.75112974e-01\n",
      " -1.19231833e+00 -2.17511768e-03 -2.90185325e-03 -6.20324788e+02\n",
      "  3.60585862e+00  1.25438348e+00]\n",
      "Number of non-zero features: 10\n",
      "**************************************************************\n",
      "round:  5\n",
      "White Wine dataset\n",
      "R-squared score (training): 0.675\n",
      "R-squared score (validation test): 0.666\n",
      "RMSE: 0.600\n",
      "linear model intercept: 606.3086811963279\n",
      "linear model coeff:\n",
      "[ 5.56924886e-01  1.46963532e-01  5.60338168e-01  3.01366927e-01\n",
      " -1.31031063e+00 -3.32969012e-03 -2.71056771e-03 -6.16550382e+02\n",
      "  3.77854212e+00  1.24219653e+00]\n",
      "Number of non-zero features: 10\n",
      "**************************************************************\n",
      "round:  6\n",
      "White Wine dataset\n",
      "R-squared score (training): 0.679\n",
      "R-squared score (validation test): 0.630\n",
      "RMSE: 0.609\n",
      "linear model intercept: 612.4431328514182\n",
      "linear model coeff:\n",
      "[ 5.58570278e-01  3.02833692e-01  6.52452337e-01  2.76644366e-01\n",
      " -1.29810080e+00 -2.14869078e-03 -2.87387999e-03 -6.22966217e+02\n",
      "  3.80951641e+00  1.37177937e+00]\n",
      "Number of non-zero features: 10\n",
      "**************************************************************\n",
      "round:  7\n",
      "White Wine dataset\n",
      "R-squared score (training): 0.677\n",
      "R-squared score (validation test): 0.640\n",
      "RMSE: 0.583\n",
      "linear model intercept: 617.4339543294319\n",
      "linear model coeff:\n",
      "[ 5.81337030e-01  2.96529626e-01  5.49393102e-01  2.81740922e-01\n",
      " -9.48440916e-01 -2.30878007e-03 -2.44979081e-03 -6.28452850e+02\n",
      "  3.90587318e+00  1.30199752e+00]\n",
      "Number of non-zero features: 10\n",
      "**************************************************************\n",
      "round:  8\n",
      "White Wine dataset\n",
      "R-squared score (training): 0.680\n",
      "R-squared score (validation test): 0.629\n",
      "RMSE: 0.680\n",
      "linear model intercept: 607.3231090949118\n",
      "linear model coeff:\n",
      "[ 5.51354513e-01  2.12799821e-01  6.15620883e-01  2.87194385e-01\n",
      " -1.17888760e+00 -2.20664345e-03 -2.66536086e-03 -6.17631364e+02\n",
      "  3.77194383e+00  1.37126885e+00]\n",
      "Number of non-zero features: 10\n",
      "**************************************************************\n",
      "round:  9\n",
      "White Wine dataset\n",
      "R-squared score (training): 0.673\n",
      "R-squared score (validation test): 0.681\n",
      "RMSE: 0.599\n",
      "linear model intercept: 616.2978500823936\n",
      "linear model coeff:\n",
      "[ 5.58587505e-01  3.10405861e-01  6.48537663e-01  2.87868987e-01\n",
      " -9.16951072e-01 -2.61642225e-03 -2.44143389e-03 -6.26961467e+02\n",
      "  3.82988009e+00  1.30826055e+00]\n",
      "Number of non-zero features: 10\n",
      "**************************************************************\n",
      "round:  10\n",
      "White Wine dataset\n",
      "R-squared score (training): 0.676\n",
      "R-squared score (validation test): 0.662\n",
      "RMSE: 0.647\n",
      "linear model intercept: 603.9440378245027\n",
      "linear model coeff:\n",
      "[ 5.55100757e-01  2.54538704e-01  6.36043950e-01  2.78070393e-01\n",
      " -1.28091890e+00 -2.50984530e-03 -2.63060975e-03 -6.14579608e+02\n",
      "  3.86015768e+00  1.40205111e+00]\n",
      "Number of non-zero features: 10\n",
      "**************************************************************\n",
      "Average Red Wine Dataset\n",
      "R-Squared score mean (training):  0.6756682939232649\n",
      "R-Squared score mean (validation):  0.6541763652735664\n",
      "RMSE mean:  0.6252143888192175\n"
     ]
    }
   ],
   "source": [
    "R_Squared_score_training = []\n",
    "R_Squared_score_validation = []\n",
    "RMSE = []\n",
    "\n",
    "count = 1\n",
    "for train_index, test_index in kf.split(X_wineRed_train):\n",
    "\n",
    "    X_train_cv, X_test_cv = X_wineRed_train.iloc[train_index], X_wineRed_train.iloc[test_index]\n",
    "    y_train_cv, y_test_cv = y_wineRed_train.iloc[train_index], y_wineRed_train.iloc[test_index]\n",
    "\n",
    "    print('round: ', count)\n",
    "    count = count + 1\n",
    "    linreg = LinearRegression().fit(X_train_cv, y_train_cv)\n",
    "\n",
    "    print('White Wine dataset')\n",
    "    print('R-squared score (training): {:.3f}'.format(linreg.score(X_train_cv, y_train_cv)))\n",
    "    R_Squared_score_training.append(linreg.score(X_train_cv, y_train_cv))\n",
    "    print('R-squared score (validation test): {:.3f}'.format(linreg.score(X_test_cv, y_test_cv)))\n",
    "    R_Squared_score_validation.append(linreg.score(X_test_cv, y_test_cv))\n",
    "    \n",
    "    # make predictions on the testing set\n",
    "    y_pred = linreg.predict(X_test_cv)\n",
    "    print('RMSE: {:.3f}'.format(np.sqrt(metrics.mean_squared_error(y_test_cv, y_pred))))\n",
    "    RMSE.append(np.sqrt(metrics.mean_squared_error(y_test_cv, y_pred)))\n",
    "\n",
    "    print('linear model intercept: {}'.format(linreg.intercept_))\n",
    "    print('linear model coeff:\\n{}'.format(linreg.coef_))\n",
    "\n",
    "    print('Number of non-zero features: {}'.format(np.sum(linreg.coef_ != 0)))\n",
    "    print('**************************************************************')\n",
    "    \n",
    "print(\"Average Red Wine Dataset\")\n",
    "R_Squared_score_training_mean = sum(R_Squared_score_training)/10\n",
    "print(\"R-Squared score mean (training): \", R_Squared_score_training_mean)\n",
    "                \n",
    "R_Squared_score_validation_mean = sum(R_Squared_score_validation)/10\n",
    "print(\"R-Squared score mean (validation): \", R_Squared_score_validation_mean)\n",
    "                \n",
    "RMSE_mean = sum(RMSE)/10\n",
    "print(\"RMSE mean: \", RMSE_mean)"
   ]
  },
  {
   "cell_type": "code",
   "execution_count": 345,
   "metadata": {},
   "outputs": [
    {
     "name": "stdout",
     "output_type": "stream",
     "text": [
      "[[-0.51366408 -0.59967798 -0.60450946 -0.57756436 -0.57305076 -0.56900171\n",
      "  -0.57745774 -0.58115606 -0.59168333 -0.53035318]\n",
      " [-0.59444876 -0.63015635 -0.599054   -0.54939796 -0.5829775  -0.59224194\n",
      "  -0.55330933 -0.58445029 -0.57749151 -0.55689291]\n",
      " [-0.59113422 -0.63640188 -0.61042636 -0.59712077 -0.59899262 -0.62271538\n",
      "  -0.55346628 -0.62304724 -0.56102954 -0.55046419]\n",
      " [-0.60155736 -0.63340055 -0.62889178 -0.59968397 -0.60255375 -0.59340753\n",
      "  -0.57753699 -0.61074326 -0.57549326 -0.56342203]\n",
      " [-0.59962986 -0.62681215 -0.6385984  -0.59998907 -0.5966943  -0.59099025\n",
      "  -0.58809042 -0.61494599 -0.61628883 -0.57141178]\n",
      " [-0.60248666 -0.63069094 -0.64631145 -0.61548076 -0.59354152 -0.60589719\n",
      "  -0.59855446 -0.59734897 -0.61203298 -0.58065256]\n",
      " [-0.59641515 -0.63294451 -0.6396668  -0.6070836  -0.59357058 -0.59868377\n",
      "  -0.60078294 -0.59770439 -0.61379363 -0.58644057]\n",
      " [-0.60385192 -0.62494935 -0.62893373 -0.60500654 -0.59957663 -0.59968132\n",
      "  -0.61356668 -0.60017619 -0.60994871 -0.59491804]\n",
      " [-0.60347631 -0.63296459 -0.62778166 -0.60195388 -0.60251662 -0.60303792\n",
      "  -0.61174814 -0.59743293 -0.62155839 -0.60367244]\n",
      " [-0.60237662 -0.6292401  -0.62153341 -0.60367854 -0.60275958 -0.60492072\n",
      "  -0.61047193 -0.60606993 -0.61314004 -0.60740656]]\n",
      "[[-0.7336118  -0.53905585 -0.64470161 -0.58939089 -0.69650405 -0.71930305\n",
      "  -0.6601517  -0.58899885 -0.65123938 -0.7676224 ]\n",
      " [-0.67703012 -0.54028128 -0.64031582 -0.58810486 -0.71105756 -0.71160428\n",
      "  -0.62679076 -0.58946587 -0.62854595 -0.78234851]\n",
      " [-0.68109365 -0.54507347 -0.6557478  -0.60162743 -0.70344129 -0.67521583\n",
      "  -0.61854411 -0.59455012 -0.62892418 -0.73830368]\n",
      " [-0.68116396 -0.54459297 -0.62129891 -0.62130955 -0.70512108 -0.66225828\n",
      "  -0.62287711 -0.58646132 -0.63297783 -0.71424761]\n",
      " [-0.67268192 -0.543211   -0.61259706 -0.61103473 -0.70509687 -0.65393518\n",
      "  -0.63606106 -0.59530796 -0.63720526 -0.72718201]\n",
      " [-0.66976213 -0.54346872 -0.607679   -0.60099558 -0.70308685 -0.64959347\n",
      "  -0.63908977 -0.59560057 -0.63242063 -0.70820954]\n",
      " [-0.66553103 -0.54262763 -0.61134213 -0.60459234 -0.70148624 -0.63740249\n",
      "  -0.64042282 -0.59730552 -0.62893678 -0.71626233]\n",
      " [-0.66343746 -0.53861507 -0.61712032 -0.60723041 -0.69624678 -0.62970413\n",
      "  -0.64269714 -0.59708564 -0.63120538 -0.67111847]\n",
      " [-0.66494965 -0.53859062 -0.61216866 -0.60671252 -0.69403727 -0.63504602\n",
      "  -0.64430792 -0.60143184 -0.62166192 -0.6774188 ]\n",
      " [-0.66084323 -0.53704162 -0.6095491  -0.60685855 -0.69387545 -0.63546544\n",
      "  -0.6433155  -0.61121865 -0.62121564 -0.66430946]]\n"
     ]
    },
    {
     "data": {
      "image/png": "[encoded data removed]",
      "text/plain": [
       "<Figure size 720x360 with 1 Axes>"
      ]
     },
     "metadata": {
      "needs_background": "light"
     },
     "output_type": "display_data"
    }
   ],
   "source": [
    "from sklearn.model_selection import learning_curve\n",
    "\n",
    "linreg = LinearRegression().fit(X_wineRed_train, y_wineRed_train)\n",
    "train_sizes = np.linspace(0.2,0.8,10)\n",
    "train_sizes, train_RMSE, test_RMSE = learning_curve(linreg, X_wineRed_train, y_wineRed_train, train_sizes = train_sizes, \n",
    "                                scoring='neg_root_mean_squared_error',cv=10, shuffle = True)\n",
    "\n",
    "print(train_RMSE)\n",
    "print(test_RMSE)\n",
    "\n",
    "train_scores_mean = np.mean(train_RMSE, axis=1)\n",
    "test_scores_mean = np.mean(test_RMSE, axis=1)\n",
    "\n",
    "# Plot learning curve\n",
    "fig, ax = plt.subplots(1, 1, figsize=(10, 5))\n",
    "    \n",
    "ax.set_title('Linear Regression Learning Curve')\n",
    "ax.set_xlabel(\"Training examples\")\n",
    "ax.set_ylabel(\"Score (neg RMSE)\")\n",
    "ax.grid()\n",
    "\n",
    "ax.plot(train_sizes, train_scores_mean, 'o-', color=\"r\", label=\"Training score\")\n",
    "ax.plot(train_sizes, test_scores_mean, 'o-', color=\"g\", label=\"Cross-validation score\")\n",
    "ax.legend(loc=\"best\")\n",
    "\n",
    "plt.show()"
   ]
  },
  {
   "cell_type": "markdown",
   "metadata": {},
   "source": [
    "### Modeling with test set "
   ]
  },
  {
   "cell_type": "code",
   "execution_count": 346,
   "metadata": {},
   "outputs": [
    {
     "name": "stdout",
     "output_type": "stream",
     "text": [
      "White Wine dataset\n",
      "R-squared score (test set): 0.719\n",
      "RMSE: 0.579\n",
      "linear model intercept: 618.9470650147446\n",
      "linear model coeff:\n",
      "[ 4.96443706e-01  5.77501397e-01  1.20958390e+00  3.33725766e-01\n",
      " -1.80308964e+00  1.01895886e-03 -2.15882054e-03 -6.28863697e+02\n",
      "  3.68677270e+00  1.09213857e+00]\n",
      "Number of non-zero features: 10\n",
      "**************************************************************\n"
     ]
    }
   ],
   "source": [
    "from sklearn.linear_model import LinearRegression\n",
    "from sklearn import metrics\n",
    "\n",
    "\n",
    "linreg = LinearRegression().fit(X_wineRed_test, y_wineRed_test)\n",
    "\n",
    "print('White Wine dataset')\n",
    "print('R-squared score (test set): {:.3f}'.format(linreg.score(X_wineRed_test, y_wineRed_test)))\n",
    "#R_Squared_score_training.append(linreg.score(X_wineWhite_test, y_wineWhite_test))\n",
    "#print('R-squared score (validation test): {:.3f}'.format(linreg.score(X_wineWhite_test, y_wineWhite_test)))\n",
    "#R_Squared_score_validation.append(linreg.score(X_wineWhite_test, y_wineWhite_test))\n",
    "\n",
    "# make predictions on the testing set\n",
    "y_pred = linreg.predict(X_wineRed_test)\n",
    "print('RMSE: {:.3f}'.format(np.sqrt(metrics.mean_squared_error(y_wineRed_test, y_pred))))\n",
    "#RMSE.append(np.sqrt(metrics.mean_squared_error(y_wineWhite_test, y_pred)))                                  \n",
    "\n",
    "print('linear model intercept: {}'.format(linreg.intercept_))\n",
    "print('linear model coeff:\\n{}'.format(linreg.coef_))\n",
    "\n",
    "print('Number of non-zero features: {}'.format(np.sum(linreg.coef_ != 0)))\n",
    "print('**************************************************************')\n"
   ]
  },
  {
   "cell_type": "code",
   "execution_count": 347,
   "metadata": {},
   "outputs": [
    {
     "name": "stdout",
     "output_type": "stream",
     "text": [
      "[[-0.57462855 -0.64723662 -0.56584996 -0.60136155 -0.59325314 -0.60643768\n",
      "  -0.54450944 -0.5672202  -0.57634112 -0.58855186]\n",
      " [-0.56129751 -0.63534858 -0.5722443  -0.58620581 -0.59413035 -0.59004287\n",
      "  -0.56941759 -0.54757695 -0.57004832 -0.58592083]\n",
      " [-0.57699896 -0.61237729 -0.56770834 -0.57818326 -0.60385635 -0.61502663\n",
      "  -0.57578326 -0.57868121 -0.58554281 -0.58876101]\n",
      " [-0.59132042 -0.62445236 -0.57920946 -0.58032193 -0.60874388 -0.61326144\n",
      "  -0.57394661 -0.58647484 -0.59745459 -0.5992509 ]\n",
      " [-0.59758506 -0.62069495 -0.5771402  -0.57829764 -0.62156558 -0.60317608\n",
      "  -0.58711591 -0.59210009 -0.5925485  -0.60813661]\n",
      " [-0.61387193 -0.61555812 -0.57917067 -0.58327762 -0.62155085 -0.61640491\n",
      "  -0.6043237  -0.60480533 -0.59137773 -0.6256655 ]\n",
      " [-0.61742364 -0.61601305 -0.57119645 -0.5853235  -0.6214162  -0.61127024\n",
      "  -0.60520326 -0.60995446 -0.59810023 -0.61909079]\n",
      " [-0.62207069 -0.62614597 -0.57981013 -0.58340353 -0.61335733 -0.62535711\n",
      "  -0.6036311  -0.61425394 -0.60558623 -0.62036408]\n",
      " [-0.61066319 -0.62199596 -0.57381612 -0.58686257 -0.60783571 -0.62448688\n",
      "  -0.60643071 -0.60938962 -0.60726265 -0.61610908]\n",
      " [-0.61725443 -0.61436528 -0.56936512 -0.57914997 -0.60924066 -0.62303218\n",
      "  -0.61673442 -0.60463982 -0.61739096 -0.61900845]]\n",
      "[[-0.60829798 -0.70292799 -0.77420284 -0.80119539 -0.62144737 -0.52763817\n",
      "  -0.56876775 -0.57275327 -0.58975105 -0.58810838]\n",
      " [-0.61026765 -0.69551001 -0.75420847 -0.8169573  -0.62753912 -0.53009417\n",
      "  -0.57159895 -0.5736874  -0.59386636 -0.61148927]\n",
      " [-0.60553863 -0.7018428  -0.77603408 -0.80975425 -0.62771717 -0.52809841\n",
      "  -0.56923986 -0.57819213 -0.58091035 -0.61925577]\n",
      " [-0.59707662 -0.6930387  -0.76396858 -0.80561752 -0.62615021 -0.52544366\n",
      "  -0.5624634  -0.58664976 -0.57911948 -0.58156017]\n",
      " [-0.57847498 -0.68036747 -0.77178722 -0.80516817 -0.61725352 -0.53116456\n",
      "  -0.56009205 -0.57908204 -0.56338929 -0.59103541]\n",
      " [-0.57868492 -0.66956968 -0.78792382 -0.80486519 -0.62021532 -0.52848567\n",
      "  -0.55400364 -0.56383552 -0.5546344  -0.59718369]\n",
      " [-0.58341405 -0.66058744 -0.7897239  -0.80434086 -0.61506363 -0.52693493\n",
      "  -0.55478682 -0.56525297 -0.55642155 -0.58268071]\n",
      " [-0.58672975 -0.67113608 -0.78844892 -0.80780408 -0.61505172 -0.52499162\n",
      "  -0.56263903 -0.56790929 -0.5418164  -0.57038402]\n",
      " [-0.58118019 -0.67342509 -0.79597524 -0.81013846 -0.61620538 -0.52661063\n",
      "  -0.55836697 -0.56616509 -0.54142597 -0.56696233]\n",
      " [-0.57635831 -0.67307843 -0.7945254  -0.8094445  -0.61632041 -0.52914256\n",
      "  -0.56111435 -0.56474526 -0.54318734 -0.56022126]]\n"
     ]
    },
    {
     "data": {
      "image/png": "[encoded data removed]",
      "text/plain": [
       "<Figure size 720x360 with 1 Axes>"
      ]
     },
     "metadata": {
      "needs_background": "light"
     },
     "output_type": "display_data"
    }
   ],
   "source": [
    "from sklearn.model_selection import learning_curve\n",
    "\n",
    "linreg = LinearRegression().fit(X_wineRed, y_wineRed)\n",
    "train_sizes = np.linspace(0.2,0.8,10)\n",
    "train_sizes, train_RMSE, test_RMSE = learning_curve(linreg, X_wineRed, y_wineRed, train_sizes = train_sizes, \n",
    "                                scoring='neg_root_mean_squared_error',cv=10, shuffle = True)\n",
    "\n",
    "print(train_RMSE)\n",
    "print(test_RMSE)\n",
    "\n",
    "train_scores_mean = np.mean(train_RMSE, axis=1)\n",
    "test_scores_mean = np.mean(test_RMSE, axis=1)\n",
    "\n",
    "# Plot learning curve\n",
    "fig, ax = plt.subplots(1, 1, figsize=(10, 5))\n",
    "    \n",
    "ax.set_title('Linear Regression Learning Curve')\n",
    "ax.set_xlabel(\"Training examples\")\n",
    "ax.set_ylabel(\"Score (neg RMSE)\")\n",
    "ax.grid()\n",
    "\n",
    "ax.plot(train_sizes, train_scores_mean, 'o-', color=\"r\", label=\"Training score\")\n",
    "ax.plot(train_sizes, test_scores_mean, 'o-', color=\"g\", label=\"Test score\")\n",
    "ax.legend(loc=\"best\")\n",
    "\n",
    "plt.show()"
   ]
  },
  {
   "cell_type": "markdown",
   "metadata": {},
   "source": [
    "### (b) K-Cross Validation for Multivariate Linear Regression Model with Gradient Descent"
   ]
  },
  {
   "cell_type": "markdown",
   "metadata": {},
   "source": [
    "### Batch Gradient Descent"
   ]
  },
  {
   "cell_type": "code",
   "execution_count": 348,
   "metadata": {},
   "outputs": [],
   "source": [
    "# Where to save the figures\n",
    "PROJECT_ROOT_DIR = \".\"\n",
    "CHAPTER_ID = \"gradientDescent\"\n",
    "IMAGES_PATH = os.path.join(PROJECT_ROOT_DIR, \"images\", CHAPTER_ID)\n",
    "os.makedirs(IMAGES_PATH, exist_ok=True)\n",
    "\n",
    "def save_fig(fig_id, tight_layout=True, fig_extension=\"png\", resolution=300):\n",
    "    path = os.path.join(IMAGES_PATH, fig_id + \".\" + fig_extension)\n",
    "    print(\"Saving figure\", fig_id)\n",
    "    if tight_layout:\n",
    "        plt.tight_layout()\n",
    "    plt.savefig(path, format=fig_extension, dpi=resolution)\n",
    "\n",
    "# Ignore useless warnings (see SciPy issue #5998)\n",
    "import warnings\n",
    "warnings.filterwarnings(action=\"ignore\", message=\"^internal gelsd\")\n"
   ]
  },
  {
   "cell_type": "markdown",
   "metadata": {},
   "source": [
    "### White Wine"
   ]
  },
  {
   "cell_type": "code",
   "execution_count": 349,
   "metadata": {},
   "outputs": [],
   "source": [
    "import pandas as pd\n",
    "from sklearn.model_selection import train_test_split\n",
    "from sklearn.linear_model import LinearRegression\n",
    "from sklearn import metrics\n",
    "import numpy as np\n",
    "import matplotlib.pyplot as plt\n",
    "import sys\n",
    "from sklearn.model_selection import KFold\n",
    "\n",
    "import warnings\n",
    "\n",
    "warnings.filterwarnings('ignore')"
   ]
  },
  {
   "cell_type": "code",
   "execution_count": 350,
   "metadata": {},
   "outputs": [
    {
     "name": "stdout",
     "output_type": "stream",
     "text": [
      "<class 'numpy.ndarray'>\n"
     ]
    }
   ],
   "source": [
    "X_wineWhite_train = X_wineWhite_train.to_numpy()\n",
    "print(type(X_wineWhite_train))"
   ]
  },
  {
   "cell_type": "code",
   "execution_count": 351,
   "metadata": {},
   "outputs": [
    {
     "name": "stdout",
     "output_type": "stream",
     "text": [
      "<class 'numpy.ndarray'>\n"
     ]
    }
   ],
   "source": [
    "y_wineWhite_train = y_wineWhite_train.to_numpy()\n",
    "print(type(y_wineWhite_train))"
   ]
  },
  {
   "cell_type": "code",
   "execution_count": 353,
   "metadata": {},
   "outputs": [
    {
     "data": {
      "text/plain": [
       "(3168, 10)"
      ]
     },
     "execution_count": 353,
     "metadata": {},
     "output_type": "execute_result"
    }
   ],
   "source": [
    "X_wineWhite_train.shape"
   ]
  },
  {
   "cell_type": "code",
   "execution_count": 354,
   "metadata": {},
   "outputs": [
    {
     "data": {
      "text/plain": [
       "(3168,)"
      ]
     },
     "execution_count": 354,
     "metadata": {},
     "output_type": "execute_result"
    }
   ],
   "source": [
    "y_wineWhite_train.shape"
   ]
  },
  {
   "cell_type": "code",
   "execution_count": 362,
   "metadata": {},
   "outputs": [
    {
     "data": {
      "text/plain": [
       "array([ 9.4,  9.5, 12.8, ..., 11.1, 11.6, 10.2])"
      ]
     },
     "execution_count": 362,
     "metadata": {},
     "output_type": "execute_result"
    }
   ],
   "source": [
    "y = y_wineWhite_train.T\n",
    "y"
   ]
  },
  {
   "cell_type": "code",
   "execution_count": 363,
   "metadata": {},
   "outputs": [],
   "source": [
    "X = np.c_[np.ones((3168,1)), X_wineWhite_train]"
   ]
  },
  {
   "cell_type": "code",
   "execution_count": 364,
   "metadata": {},
   "outputs": [
    {
     "name": "stdout",
     "output_type": "stream",
     "text": [
      "(3168, 11)\n"
     ]
    }
   ],
   "source": [
    "print(X.shape)"
   ]
  },
  {
   "cell_type": "code",
   "execution_count": 384,
   "metadata": {},
   "outputs": [],
   "source": [
    "def batch_Gradient_Descent(alpha):\n",
    "    # learning rate\n",
    "    print(\"alpha=============,\", alpha)\n",
    "\n",
    "    #number of iterations\n",
    "    n_iter = 1000\n",
    "\n",
    "    # the number of data points\n",
    "    n = 11\n",
    "    theta = np.random.randn(11, 1)\n",
    "\n",
    "    preCost = sys.maxsize\n",
    "    bestCost = preCost\n",
    "\n",
    "    preTheta = np.random.randn(11, 1)\n",
    "    bestTheta = preTheta\n",
    "\n",
    "    changeCost = bestCost\n",
    "\n",
    "    # the process of gradient descent\n",
    "    for iteration in range(n_iter):\n",
    "        gradients = (1/n) * X_train.T.dot(X_train.dot(theta) - np.vstack(y_train))\n",
    "        theta = theta - alpha*gradients\n",
    "\n",
    "        cost = (X_train.dot(theta) - np.vstack(y_train)).T.dot(X_train.dot(theta) - np.vstack(y_train))[0][0] * (1/(2*n))\n",
    "        if preCost-cost>0:\n",
    "            bestCost = cost\n",
    "            bestTheta = theta\n",
    "            changeCost = preCost-cost\n",
    "        else:\n",
    "            break\n",
    "\n",
    "        preCost = cost\n",
    "        preTheta = theta    \n",
    "    print(\"bestCost:\",bestCost)\n",
    "    print(\"preCost-cost:\",changeCost)\n",
    "\n",
    "    theta = bestTheta\n",
    "\n",
    "    y_train_predict = X_train.dot(theta)\n",
    "    train_error = np.sqrt(metrics.mean_squared_error(y_train, y_train_predict))\n",
    "    print('training RMSE: {:.3f}'.format(train_error))\n",
    "\n",
    "    y_test_predict = X_test.dot(theta)\n",
    "    test_error = np.sqrt(metrics.mean_squared_error(y_test, y_test_predict))\n",
    "    print('testing RMSE: {:.3f}\\n'.format(test_error))\n",
    "    \n",
    "    return train_error, test_error"
   ]
  },
  {
   "cell_type": "code",
   "execution_count": 387,
   "metadata": {},
   "outputs": [
    {
     "name": "stdout",
     "output_type": "stream",
     "text": [
      "alpha=============, 1e-07\n",
      "bestCost: 1813.7321228536225\n",
      "preCost-cost: 0.9063666707027096\n",
      "training RMSE: 3.741\n",
      "testing RMSE: 3.748\n",
      "\n",
      "alpha=============, 1e-07\n",
      "bestCost: 1723.9181281407873\n",
      "preCost-cost: 0.6088916050980515\n",
      "training RMSE: 3.647\n",
      "testing RMSE: 3.479\n",
      "\n",
      "alpha=============, 1e-07\n",
      "bestCost: 7651.659983711194\n",
      "preCost-cost: 2.9049289391114144\n",
      "training RMSE: 7.684\n",
      "testing RMSE: 8.326\n",
      "\n",
      "alpha=============, 1e-07\n",
      "bestCost: 5634.865708616693\n",
      "preCost-cost: 4.1282536663266\n",
      "training RMSE: 6.594\n",
      "testing RMSE: 6.047\n",
      "\n",
      "alpha=============, 1e-07\n",
      "bestCost: 3155.699874818619\n",
      "preCost-cost: 1.0989217143414862\n",
      "training RMSE: 4.935\n",
      "testing RMSE: 4.948\n",
      "\n",
      "alpha=============, 1e-07\n",
      "bestCost: 2490.8483263116646\n",
      "preCost-cost: 1.7171405854992372\n",
      "training RMSE: 4.384\n",
      "testing RMSE: 3.834\n",
      "\n",
      "alpha=============, 1e-07\n",
      "bestCost: 3790.849517071285\n",
      "preCost-cost: 3.5978950284561506\n",
      "training RMSE: 5.409\n",
      "testing RMSE: 5.152\n",
      "\n",
      "alpha=============, 1e-07\n",
      "bestCost: 1313.3548835617928\n",
      "preCost-cost: 0.32471759546820067\n",
      "training RMSE: 3.183\n",
      "testing RMSE: 3.175\n",
      "\n",
      "alpha=============, 1e-07\n",
      "bestCost: 2594.428398946034\n",
      "preCost-cost: 2.2677434474626352\n",
      "training RMSE: 4.474\n",
      "testing RMSE: 4.359\n",
      "\n",
      "alpha=============, 1e-07\n",
      "bestCost: 1458.5126834691962\n",
      "preCost-cost: 1.2104289713133767\n",
      "training RMSE: 3.354\n",
      "testing RMSE: 3.253\n",
      "\n",
      "average training RMSE:  4.740526332828325\n",
      "average testing RMSE:  4.632042161822798\n"
     ]
    }
   ],
   "source": [
    "kf = KFold(n_splits=10, random_state=None, shuffle=True)\n",
    "\n",
    "train_errors = []\n",
    "test_errors = []\n",
    "\n",
    "for train_index, test_index in kf.split(X):\n",
    "\n",
    "    X_train, X_test = X[train_index], X[test_index]\n",
    "    y_train, y_test = y[train_index], y[test_index]\n",
    "    \n",
    "    train_error, test_error = batch_Gradient_Descent(0.0000001)\n",
    "    train_errors.append(train_error)\n",
    "    test_errors.append(test_error)\n",
    "    \n",
    "print('average training RMSE: ', sum(train_errors)/10)\n",
    "print('average testing RMSE: ', sum(test_errors)/10)\n",
    "    \n",
    "    "
   ]
  },
  {
   "cell_type": "code",
   "execution_count": null,
   "metadata": {},
   "outputs": [],
   "source": []
  },
  {
   "cell_type": "markdown",
   "metadata": {},
   "source": [
    "### Red Wine"
   ]
  },
  {
   "cell_type": "code",
   "execution_count": 389,
   "metadata": {},
   "outputs": [
    {
     "name": "stdout",
     "output_type": "stream",
     "text": [
      "<class 'numpy.ndarray'>\n"
     ]
    }
   ],
   "source": [
    "X_wineRed_train = X_wineRed_train.to_numpy()\n",
    "print(type(X_wineRed_train))"
   ]
  },
  {
   "cell_type": "code",
   "execution_count": 390,
   "metadata": {},
   "outputs": [
    {
     "name": "stdout",
     "output_type": "stream",
     "text": [
      "<class 'numpy.ndarray'>\n"
     ]
    }
   ],
   "source": [
    "y_wineRed_train = y_wineRed_train.to_numpy()\n",
    "print(type(y_wineRed_train))"
   ]
  },
  {
   "cell_type": "code",
   "execution_count": 391,
   "metadata": {},
   "outputs": [
    {
     "data": {
      "text/plain": [
       "(1087, 10)"
      ]
     },
     "execution_count": 391,
     "metadata": {},
     "output_type": "execute_result"
    }
   ],
   "source": [
    "X_wineRed_train.shape"
   ]
  },
  {
   "cell_type": "code",
   "execution_count": 393,
   "metadata": {},
   "outputs": [
    {
     "data": {
      "text/plain": [
       "(1087,)"
      ]
     },
     "execution_count": 393,
     "metadata": {},
     "output_type": "execute_result"
    }
   ],
   "source": [
    "y_wineRed_train.shape"
   ]
  },
  {
   "cell_type": "code",
   "execution_count": 395,
   "metadata": {},
   "outputs": [
    {
     "data": {
      "text/plain": [
       "array([ 9.3,  9.8, 12.7, ...,  9.9, 12.5,  9.6])"
      ]
     },
     "execution_count": 395,
     "metadata": {},
     "output_type": "execute_result"
    }
   ],
   "source": [
    "y = y_wineRed_train.T\n",
    "y"
   ]
  },
  {
   "cell_type": "code",
   "execution_count": 397,
   "metadata": {},
   "outputs": [],
   "source": [
    "X = np.c_[np.ones((1087,1)), X_wineRed_train]"
   ]
  },
  {
   "cell_type": "code",
   "execution_count": 398,
   "metadata": {},
   "outputs": [
    {
     "name": "stdout",
     "output_type": "stream",
     "text": [
      "(1087, 11)\n"
     ]
    }
   ],
   "source": [
    "print(X.shape)"
   ]
  },
  {
   "cell_type": "code",
   "execution_count": 399,
   "metadata": {},
   "outputs": [
    {
     "name": "stdout",
     "output_type": "stream",
     "text": [
      "alpha=============, 1e-07\n",
      "bestCost: 848.9237546068175\n",
      "preCost-cost: 0.4683719887816551\n",
      "training RMSE: 4.370\n",
      "testing RMSE: 4.416\n",
      "\n",
      "alpha=============, 1e-07\n",
      "bestCost: 2183.908158772349\n",
      "preCost-cost: 1.1940676074718795\n",
      "training RMSE: 7.009\n",
      "testing RMSE: 6.817\n",
      "\n",
      "alpha=============, 1e-07\n",
      "bestCost: 5174.1394849747585\n",
      "preCost-cost: 5.424908133370991\n",
      "training RMSE: 10.788\n",
      "testing RMSE: 10.836\n",
      "\n",
      "alpha=============, 1e-07\n",
      "bestCost: 4419.406694981502\n",
      "preCost-cost: 2.4888628803109896\n",
      "training RMSE: 9.971\n",
      "testing RMSE: 9.656\n",
      "\n",
      "alpha=============, 1e-07\n",
      "bestCost: 1955.9441833395817\n",
      "preCost-cost: 1.6445594011779576\n",
      "training RMSE: 6.633\n",
      "testing RMSE: 6.165\n",
      "\n",
      "alpha=============, 1e-07\n",
      "bestCost: 1372.091439826991\n",
      "preCost-cost: 1.3846174450627586\n",
      "training RMSE: 5.556\n",
      "testing RMSE: 5.409\n",
      "\n",
      "alpha=============, 1e-07\n",
      "bestCost: 1101.4336372388238\n",
      "preCost-cost: 0.49255422871851806\n",
      "training RMSE: 4.978\n",
      "testing RMSE: 4.870\n",
      "\n",
      "alpha=============, 1e-07\n",
      "bestCost: 7753.348806369731\n",
      "preCost-cost: 8.632392787203571\n",
      "training RMSE: 13.200\n",
      "testing RMSE: 12.843\n",
      "\n",
      "alpha=============, 1e-07\n",
      "bestCost: 1299.7462039798186\n",
      "preCost-cost: 1.423252401253876\n",
      "training RMSE: 5.404\n",
      "testing RMSE: 4.961\n",
      "\n",
      "alpha=============, 1e-07\n",
      "bestCost: 412.8138271704958\n",
      "preCost-cost: 0.04980080610272353\n",
      "training RMSE: 3.046\n",
      "testing RMSE: 3.579\n",
      "\n",
      "average training RMSE:  7.09544639285487\n",
      "average testing RMSE:  6.955198647818217\n"
     ]
    }
   ],
   "source": [
    "kf = KFold(n_splits=10, random_state=None, shuffle=True)\n",
    "\n",
    "train_errors = []\n",
    "test_errors = []\n",
    "\n",
    "for train_index, test_index in kf.split(X):\n",
    "\n",
    "    X_train, X_test = X[train_index], X[test_index]\n",
    "    y_train, y_test = y[train_index], y[test_index]\n",
    "    \n",
    "    train_error, test_error = batch_Gradient_Descent(0.0000001)\n",
    "    train_errors.append(train_error)\n",
    "    test_errors.append(test_error)\n",
    "    \n",
    "print('average training RMSE: ', sum(train_errors)/10)\n",
    "print('average testing RMSE: ', sum(test_errors)/10)"
   ]
  },
  {
   "cell_type": "code",
   "execution_count": null,
   "metadata": {},
   "outputs": [],
   "source": []
  },
  {
   "cell_type": "markdown",
   "metadata": {},
   "source": [
    "### Regularized linear regression models with feature normalization"
   ]
  },
  {
   "cell_type": "markdown",
   "metadata": {},
   "source": [
    "### Ridge Regression Model (L2 Penalty)"
   ]
  },
  {
   "cell_type": "markdown",
   "metadata": {},
   "source": [
    "### White Wine"
   ]
  },
  {
   "cell_type": "markdown",
   "metadata": {},
   "source": [
    "### No Normalization"
   ]
  },
  {
   "cell_type": "code",
   "execution_count": null,
   "metadata": {},
   "outputs": [],
   "source": [
    "from sklearn.linear_model import Ridge\n",
    "kf = KFold(n_splits=10, random_state=None, shuffle=True)\n",
    "\n",
    "R_Squared_score_training = []\n",
    "R_Squared_score_validation = []\n",
    "RMSE = []\n",
    "\n",
    "\n",
    "count = 1\n",
    "for train_index, test_index in kf.split(X_wineWhite_train):\n",
    "\n",
    "    X_train_cv, X_test_cv = X_wineWhite_train.iloc[train_index], X_wineWhite_train.iloc[test_index]\n",
    "    y_train_cv, y_test_cv = y_wineWhite_train.iloc[train_index], y_wineWhite_train.iloc[test_index]\n",
    " \n",
    "   \n",
    "    print('round: ', count)\n",
    "    count = count + 1\n",
    "    \n",
    "    linridge = Ridge().fit(X_train_cv, y_train_cv)\n",
    "\n",
    "    print('White Wine dataset')\n",
    "\n",
    "    print('R-squared score (training): {:.3f}'\n",
    "         .format(linridge.score(X_train_cv, y_train_cv)))\n",
    "    R_Squared_score_training.append(linridge.score(X_train_cv, y_train_cv))\n",
    "    print('R-squared score (test): {:.3f}'\n",
    "         .format(linridge.score(X_test_cv, y_test_cv)))\n",
    "    R_Squared_score_validation.append(linridge.score(X_test_cv, y_test_cv))\n",
    "\n",
    "    # make predictions on the testing set\n",
    "    y_pred = linreg.predict(X_test_cv)\n",
    "    print('RMSE: {:.3f}'.format(np.sqrt(metrics.mean_squared_error(y_test_cv, y_pred))))\n",
    "    RMSE.append(np.sqrt(metrics.mean_squared_error(y_test_cv, y_pred)))\n",
    "    \n",
    "    print('ridge regression linear model intercept: {}'.format(linridge.intercept_))\n",
    "    print('ridge regression linear model coeff:\\n{}'.format(linridge.coef_))\n",
    "\n",
    "    print('Number of non-zero features: {}'.format(np.sum(linridge.coef_ != 0)))\n",
    "    print('*****************************************************************')\n",
    "    \n",
    "print(\"Average White Wine Dataset\")\n",
    "R_Squared_score_training_mean = sum(R_Squared_score_training)/10\n",
    "print(\"R-Squared score mean (training): \", R_Squared_score_training_mean)\n",
    "                \n",
    "R_Squared_score_validation_mean = sum(R_Squared_score_validation)/10\n",
    "print(\"R-Squared score mean (validation): \", R_Squared_score_validation_mean)\n",
    "                \n",
    "RMSE_mean = sum(RMSE)/10\n",
    "print(\"RMSE mean: \", RMSE_mean)"
   ]
  },
  {
   "cell_type": "code",
   "execution_count": null,
   "metadata": {},
   "outputs": [],
   "source": [
    "from sklearn.model_selection import learning_curve\n",
    "\n",
    "linridge = Ridge().fit(X_wineWhite_train, y_wineWhite_train)\n",
    "\n",
    "train_sizes = np.linspace(0.2,0.8,10)\n",
    "train_sizes, train_RMSE, test_RMSE = learning_curve(linridge, X_wineWhite_train, y_wineWhite_train, train_sizes = train_sizes, \n",
    "                                scoring='neg_root_mean_squared_error',cv=10, shuffle = True)\n",
    "\n",
    "print(train_RMSE)\n",
    "print(test_RMSE)\n",
    "\n",
    "train_scores_mean = np.mean(train_RMSE, axis=1)\n",
    "test_scores_mean = np.mean(test_RMSE, axis=1)\n",
    "\n",
    "# Plot learning curve\n",
    "fig, ax = plt.subplots(1, 1, figsize=(10, 5))\n",
    "    \n",
    "ax.set_title('Linear Regression Ridge Regularization Learning Curve')\n",
    "ax.set_xlabel(\"Training examples\")\n",
    "ax.set_ylabel(\"Score (neg RMSE)\")\n",
    "ax.grid()\n",
    "\n",
    "ax.plot(train_sizes, train_scores_mean, 'o-', color=\"r\", label=\"Training score\")\n",
    "ax.plot(train_sizes, test_scores_mean, 'o-', color=\"g\", label=\"Cross-validation score\")\n",
    "ax.legend(loc=\"best\")\n",
    "\n",
    "plt.show()"
   ]
  },
  {
   "cell_type": "markdown",
   "metadata": {},
   "source": [
    "### Ridge Regularization with Normalization"
   ]
  },
  {
   "cell_type": "code",
   "execution_count": null,
   "metadata": {},
   "outputs": [],
   "source": [
    "from sklearn.preprocessing import MinMaxScaler\n",
    "scaler = MinMaxScaler()\n",
    "\n",
    "R_Squared_score_training = []\n",
    "R_Squared_score_validation = []\n",
    "RMSE = []\n",
    "\n",
    "count = 1\n",
    "for train_index, test_index in kf.split(X_wineWhite_train):\n",
    "\n",
    "    X_train_cv, X_test_cv = X_wineWhite_train.iloc[train_index], X_wineWhite_train.iloc[test_index]\n",
    "    y_train_cv, y_test_cv = y_wineWhite_train.iloc[train_index], y_wineWhite_train.iloc[test_index]\n",
    " \n",
    "   \n",
    "    print('round: ', count)\n",
    "    count = count + 1\n",
    "    \n",
    "    X_train_scaled = scaler.fit_transform(X_train_cv)\n",
    "    X_test_scaled = scaler.transform(X_test_cv)\n",
    "\n",
    "    linridge = Ridge().fit(X_train_scaled, y_train_cv)\n",
    "\n",
    "    print('White Wine dataset')\n",
    "    print('R-squared score (training): {:.3f}'\n",
    "         .format(linridge.score(X_train_scaled, y_train_cv)))\n",
    "    R_Squared_score_training.append(linridge.score(X_train_scaled, y_train_cv))\n",
    "    print('R-squared score (test): {:.3f}'\n",
    "         .format(linridge.score(X_test_scaled, y_test_cv)))\n",
    "    R_Squared_score_validation.append(linridge.score(X_test_scaled, y_test_cv))\n",
    "\n",
    "    # make predictions on the testing set\n",
    "    y_pred = linreg.predict(X_test_cv)\n",
    "    print('RMSE: {:.3f}'.format(np.sqrt(metrics.mean_squared_error(y_test_cv, y_pred))))\n",
    "    RMSE.append(np.sqrt(metrics.mean_squared_error(y_test_cv, y_pred)))\n",
    "    \n",
    "    print('ridge regression linear model intercept: {}'.format(linridge.intercept_))\n",
    "    print('ridge regression linear model coeff:\\n{}'.format(linridge.coef_))\n",
    "\n",
    "    print('Number of non-zero features: {}'.format(np.sum(linridge.coef_ != 0)))\n",
    "    print('*************************************************************')\n",
    "    \n",
    "print(\"Average White Wine Dataset with Normalization\")\n",
    "R_Squared_score_training_mean = sum(R_Squared_score_training)/10\n",
    "print(\"R-Squared score mean (training): \", R_Squared_score_training_mean)\n",
    "                \n",
    "R_Squared_score_validation_mean = sum(R_Squared_score_validation)/10\n",
    "print(\"R-Squared score mean (validation): \", R_Squared_score_validation_mean)\n",
    "                \n",
    "RMSE_mean = sum(RMSE)/10\n",
    "print(\"RMSE mean: \", RMSE_mean)"
   ]
  },
  {
   "cell_type": "markdown",
   "metadata": {},
   "source": [
    "### Find best alpha"
   ]
  },
  {
   "cell_type": "code",
   "execution_count": null,
   "metadata": {},
   "outputs": [],
   "source": [
    "X_wineWhite_train, X_wineWhite_testCV, y_wineWhite_train, y_wineWhite_testCV = train_test_split(X_wineWhite_train, y_wineWhite_train, test_size=0.2)\n",
    "\n",
    "scaler = MinMaxScaler()\n",
    "X_train_scaled = scaler.fit_transform(X_wineWhite_train)\n",
    "X_test_scaled = scaler.transform(X_wineWhite_testCV)\n",
    "\n",
    "print('Ridge regression: effect of alpha regularization parameter\\n')\n",
    "for this_alpha in [0,0.01, 0.05, 0.1, 0.5, 1, 10, 20, 50, 100, 1000]:\n",
    "    linridge = Ridge(alpha = this_alpha).fit(X_train_scaled, y_wineWhite_train)\n",
    "    r2_train = linridge.score(X_train_scaled, y_wineWhite_train)\n",
    "    r2_test = linridge.score(X_test_scaled, y_wineWhite_testCV)\n",
    "    num_coeff_bigger = np.sum(abs(linridge.coef_) > 1.0)\n",
    "    print('Alpha = {:.4f}\\nnum abs(coeff) > 1.0: {}, \\\n",
    "r-squared training: {:.4f}, r-squared test: {:.4f}\\n'\n",
    "         .format(this_alpha, num_coeff_bigger, r2_train, r2_test))"
   ]
  },
  {
   "cell_type": "markdown",
   "metadata": {},
   "source": [
    "### LR with Ridge Regression, Normalization, and optimal alpha"
   ]
  },
  {
   "cell_type": "code",
   "execution_count": null,
   "metadata": {},
   "outputs": [],
   "source": [
    "R_Squared_score_training = []\n",
    "R_Squared_score_validation = []\n",
    "RMSE = []\n",
    "\n",
    "count = 1\n",
    "for train_index, test_index in kf.split(X_wineWhite_train):\n",
    "\n",
    "    X_train_cv, X_test_cv = X_wineWhite_train.iloc[train_index], X_wineWhite_train.iloc[test_index]\n",
    "    y_train_cv, y_test_cv = y_wineWhite_train.iloc[train_index], y_wineWhite_train.iloc[test_index]\n",
    " \n",
    "   \n",
    "    print('round: ', count)\n",
    "    count = count + 1\n",
    "\n",
    "    X_train_scaled = scaler.fit_transform(X_train_cv)\n",
    "    X_test_scaled = scaler.transform(X_test_cv)\n",
    "\n",
    "\n",
    "    linridge = Ridge(alpha=1).fit(X_train_scaled, y_train_cv)\n",
    "\n",
    "    print('White Wine dataset')\n",
    "    print('R-squared score (training): {:.3f}'\n",
    "         .format(linridge.score(X_train_scaled, y_train_cv)))\n",
    "    R_Squared_score_training.append(linridge.score(X_train_scaled, y_train_cv))\n",
    "    print('R-squared score (test): {:.3f}'\n",
    "         .format(linridge.score(X_test_scaled, y_test_cv)))\n",
    "    R_Squared_score_validation.append(linridge.score(X_test_scaled, y_test_cv))\n",
    "\n",
    "    # make predictions on the testing set\n",
    "    y_pred = linreg.predict(X_test_cv)\n",
    "    print('RMSE: {:.3f}'.format(np.sqrt(metrics.mean_squared_error(y_test_cv, y_pred))))\n",
    "    RMSE.append(np.sqrt(metrics.mean_squared_error(y_test_cv, y_pred)))\n",
    "\n",
    "    print('ridge regression linear model intercept: {}'.format(linridge.intercept_))\n",
    "    print('ridge regression linear model coeff:\\n{}'.format(linridge.coef_))\n",
    "\n",
    "    print('Number of non-zero features: {}'.format(np.sum(linridge.coef_ != 0)))\n",
    "    print('******************************************************************')\n",
    "    \n",
    "print(\"Average White Wine Dataset with Normalization and Optimal Alpha\")\n",
    "R_Squared_score_training_mean = sum(R_Squared_score_training)/10\n",
    "print(\"R-Squared score mean (training): \", R_Squared_score_training_mean)\n",
    "                \n",
    "R_Squared_score_validation_mean = sum(R_Squared_score_validation)/10\n",
    "print(\"R-Squared score mean (validation): \", R_Squared_score_validation_mean)\n",
    "                \n",
    "RMSE_mean = sum(RMSE)/10\n",
    "print(\"RMSE mean: \", RMSE_mean)"
   ]
  },
  {
   "cell_type": "code",
   "execution_count": null,
   "metadata": {
    "scrolled": true
   },
   "outputs": [],
   "source": [
    "from sklearn.model_selection import learning_curve\n",
    "\n",
    "X_wineWhite_train, X_wineWhite_testCV, y_wineWhite_train, y_wineWhite_testCV = train_test_split(X_wineWhite_train, y_wineWhite_train, test_size=0.2)\n",
    "\n",
    "scaler = MinMaxScaler()\n",
    "X_train_scaled = scaler.fit_transform(X_wineWhite_train)\n",
    "X_test_scaled = scaler.transform(X_wineWhite_testCV)\n",
    "\n",
    "linridge = Ridge(alpha = 10).fit(X_train_scaled, y_wineWhite_train)\n",
    "\n",
    "train_sizes = np.linspace(0.2,0.8,10)\n",
    "train_sizes, train_RMSE, test_RMSE = learning_curve(linridge, X_train_cv, y_train_cv, train_sizes = train_sizes, \n",
    "                                scoring='neg_root_mean_squared_error',cv=10, shuffle = True)\n",
    "\n",
    "print(train_RMSE)\n",
    "print(test_RMSE)\n",
    "\n",
    "train_scores_mean = np.mean(train_RMSE, axis=1)\n",
    "test_scores_mean = np.mean(test_RMSE, axis=1)\n",
    "\n",
    "# Plot learning curve\n",
    "fig, ax = plt.subplots(1, 1, figsize=(10, 5))\n",
    "    \n",
    "ax.set_title('LR Ridge with Normalization and Optimal Alpha Learning Curve')\n",
    "ax.set_xlabel(\"Training examples\")\n",
    "ax.set_ylabel(\"Score (neg RMSE)\")\n",
    "ax.grid()\n",
    "\n",
    "ax.plot(train_sizes, train_scores_mean, 'o-', color=\"r\", label=\"Training score\")\n",
    "ax.plot(train_sizes, test_scores_mean, 'o-', color=\"g\", label=\"Cross-validation score\")\n",
    "ax.legend(loc=\"best\")\n",
    "\n",
    "plt.show()"
   ]
  },
  {
   "cell_type": "markdown",
   "metadata": {},
   "source": [
    "### LR with Ridge Regression, Normalization, and optimal alpha Using Test Set"
   ]
  },
  {
   "cell_type": "code",
   "execution_count": null,
   "metadata": {},
   "outputs": [],
   "source": [
    "X_test_scaled = scaler.transform(X_wineWhite_test)\n",
    "X_train_scaled = scaler.transform(X_wineWhite_train)\n",
    "\n",
    "\n",
    "linridge = Ridge(alpha=1).fit(X_train_scaled, y_wineWhite_train)\n",
    "\n",
    "print('White Wine dataset')\n",
    "print('R-squared score (training): {:.3f}'\n",
    "     .format(linridge.score(X_train_scaled, y_wineWhite_train)))\n",
    "print('R-squared score (testing): {:.3f}'\n",
    "     .format(linridge.score(X_test_scaled, y_wineWhite_test)))\n",
    "\n",
    "# make predictions on the testing set\n",
    "y_pred = linridge.predict(X_test_scaled)\n",
    "print('RMSE: {:.3f}'.format(np.sqrt(metrics.mean_squared_error(y_wineWhite_test, y_pred))))\n",
    "\n",
    "print('ridge regression linear model intercept: {}'.format(linridge.intercept_))\n",
    "print('ridge regression linear model coeff:\\n{}'.format(linridge.coef_))\n",
    "\n",
    "print('Number of non-zero features: {}'.format(np.sum(linridge.coef_ != 0)))\n",
    "print('******************************************************************')\n",
    "    "
   ]
  },
  {
   "cell_type": "code",
   "execution_count": null,
   "metadata": {},
   "outputs": [],
   "source": [
    "from sklearn.model_selection import learning_curve\n",
    "\n",
    "X_test_scaled = scaler.transform(X_wineWhite_test)\n",
    "linridge = Ridge(alpha=1).fit(X_test_scaled, y_wineWhite_test)\n",
    "\n",
    "train_sizes = np.linspace(0.2,0.8,10)\n",
    "train_sizes, train_RMSE, test_RMSE = learning_curve(linridge, X_test_scaled, y_wineWhite_test, train_sizes = train_sizes, \n",
    "                                scoring='neg_root_mean_squared_error',cv=10, shuffle = True)\n",
    "\n",
    "print(train_RMSE)\n",
    "print(test_RMSE)\n",
    "\n",
    "train_scores_mean = np.mean(train_RMSE, axis=1)\n",
    "test_scores_mean = np.mean(test_RMSE, axis=1)\n",
    "\n",
    "# Plot learning curve\n",
    "fig, ax = plt.subplots(1, 1, figsize=(10, 5))\n",
    "    \n",
    "ax.set_title('Linear Regression Learning Curve')\n",
    "ax.set_xlabel(\"Training examples\")\n",
    "ax.set_ylabel(\"Score (neg RMSE)\")\n",
    "ax.grid()\n",
    "\n",
    "ax.plot(train_sizes, train_scores_mean, 'o-', color=\"r\", label=\"Training score\")\n",
    "ax.plot(train_sizes, test_scores_mean, 'o-', color=\"g\", label=\"Test score\")\n",
    "ax.legend(loc=\"best\")\n",
    "\n",
    "plt.show()"
   ]
  },
  {
   "cell_type": "markdown",
   "metadata": {},
   "source": [
    "### Red Wine"
   ]
  },
  {
   "cell_type": "markdown",
   "metadata": {},
   "source": [
    "### No Normalization"
   ]
  },
  {
   "cell_type": "code",
   "execution_count": null,
   "metadata": {},
   "outputs": [],
   "source": [
    "from sklearn.linear_model import Ridge\n",
    "kf = KFold(n_splits=10, random_state=None, shuffle=True)\n",
    "\n",
    "R_Squared_score_training = []\n",
    "R_Squared_score_validation = []\n",
    "RMSE = []\n",
    "\n",
    "\n",
    "count = 1\n",
    "for train_index, test_index in kf.split(X_wineRed_train):\n",
    "\n",
    "    X_train_cv, X_test_cv = X_wineRed_train.iloc[train_index], X_wineRed_train.iloc[test_index]\n",
    "    y_train_cv, y_test_cv = y_wineRed_train.iloc[train_index], y_wineRed_train.iloc[test_index]\n",
    " \n",
    "   \n",
    "    print('round: ', count)\n",
    "    count = count + 1\n",
    "    \n",
    "    linridge = Ridge().fit(X_train_cv, y_train_cv)\n",
    "\n",
    "    print('Red Wine dataset')\n",
    "\n",
    "    print('R-squared score (training): {:.3f}'\n",
    "         .format(linridge.score(X_train_cv, y_train_cv)))\n",
    "    R_Squared_score_training.append(linridge.score(X_train_cv, y_train_cv))\n",
    "    print('R-squared score (test): {:.3f}'\n",
    "         .format(linridge.score(X_test_cv, y_test_cv)))\n",
    "    R_Squared_score_validation.append(linridge.score(X_test_cv, y_test_cv))\n",
    "\n",
    "    # make predictions on the testing set\n",
    "    y_pred = linreg.predict(X_test_cv)\n",
    "    print('RMSE: {:.3f}'.format(np.sqrt(metrics.mean_squared_error(y_test_cv, y_pred))))\n",
    "    RMSE.append(np.sqrt(metrics.mean_squared_error(y_test_cv, y_pred)))\n",
    "    \n",
    "    print('ridge regression linear model intercept: {}'.format(linridge.intercept_))\n",
    "    print('ridge regression linear model coeff:\\n{}'.format(linridge.coef_))\n",
    "\n",
    "    print('Number of non-zero features: {}'.format(np.sum(linridge.coef_ != 0)))\n",
    "    print('*****************************************************************')\n",
    "    \n",
    "print(\"Average Red Wine Dataset\")\n",
    "R_Squared_score_training_mean = sum(R_Squared_score_training)/10\n",
    "print(\"R-Squared score mean (training): \", R_Squared_score_training_mean)\n",
    "                \n",
    "R_Squared_score_validation_mean = sum(R_Squared_score_validation)/10\n",
    "print(\"R-Squared score mean (validation): \", R_Squared_score_validation_mean)\n",
    "                \n",
    "RMSE_mean = sum(RMSE)/10\n",
    "print(\"RMSE mean: \", RMSE_mean)"
   ]
  },
  {
   "cell_type": "markdown",
   "metadata": {},
   "source": [
    "### Ridge Regularization with Normalization\n"
   ]
  },
  {
   "cell_type": "code",
   "execution_count": null,
   "metadata": {},
   "outputs": [],
   "source": [
    "from sklearn.preprocessing import MinMaxScaler\n",
    "scaler = MinMaxScaler()\n",
    "\n",
    "R_Squared_score_training = []\n",
    "R_Squared_score_validation = []\n",
    "RMSE = []\n",
    "\n",
    "count = 1\n",
    "for train_index, test_index in kf.split(X_wineRed_train):\n",
    "\n",
    "    X_train_cv, X_test_cv = X_wineRed_train.iloc[train_index], X_wineRed_train.iloc[test_index]\n",
    "    y_train_cv, y_test_cv = y_wineRed_train.iloc[train_index], y_wineRed_train.iloc[test_index]\n",
    " \n",
    "   \n",
    "    print('round: ', count)\n",
    "    count = count + 1\n",
    "    \n",
    "    X_train_scaled = scaler.fit_transform(X_train_cv)\n",
    "    X_test_scaled = scaler.transform(X_test_cv)\n",
    "\n",
    "    linridge = Ridge().fit(X_train_scaled, y_train_cv)\n",
    "\n",
    "    print('Red Wine dataset')\n",
    "    print('R-squared score (training): {:.3f}'\n",
    "         .format(linridge.score(X_train_scaled, y_train_cv)))\n",
    "    R_Squared_score_training.append(linridge.score(X_train_scaled, y_train_cv))\n",
    "    print('R-squared score (test): {:.3f}'\n",
    "         .format(linridge.score(X_test_scaled, y_test_cv)))\n",
    "    R_Squared_score_validation.append(linridge.score(X_test_scaled, y_test_cv))\n",
    "\n",
    "    # make predictions on the testing set\n",
    "    y_pred = linreg.predict(X_test_cv)\n",
    "    print('RMSE: {:.3f}'.format(np.sqrt(metrics.mean_squared_error(y_test_cv, y_pred))))\n",
    "    RMSE.append(np.sqrt(metrics.mean_squared_error(y_test_cv, y_pred)))\n",
    "    \n",
    "    print('ridge regression linear model intercept: {}'.format(linridge.intercept_))\n",
    "    print('ridge regression linear model coeff:\\n{}'.format(linridge.coef_))\n",
    "\n",
    "    print('Number of non-zero features: {}'.format(np.sum(linridge.coef_ != 0)))\n",
    "    print('*************************************************************')\n",
    "    \n",
    "print(\"Average Red Wine Dataset with Normalization\")\n",
    "R_Squared_score_training_mean = sum(R_Squared_score_training)/10\n",
    "print(\"R-Squared score mean (training): \", R_Squared_score_training_mean)\n",
    "                \n",
    "R_Squared_score_validation_mean = sum(R_Squared_score_validation)/10\n",
    "print(\"R-Squared score mean (validation): \", R_Squared_score_validation_mean)\n",
    "                \n",
    "RMSE_mean = sum(RMSE)/10\n",
    "print(\"RMSE mean: \", RMSE_mean)"
   ]
  },
  {
   "cell_type": "markdown",
   "metadata": {},
   "source": [
    "### Find best alpha"
   ]
  },
  {
   "cell_type": "code",
   "execution_count": null,
   "metadata": {},
   "outputs": [],
   "source": [
    "X_wineRed_train, X_wineRed_testCV, y_wineRed_train, y_wineRed_testCV = train_test_split(X_wineRed_train, y_wineRed_train, test_size=0.2)\n",
    "\n",
    "scaler = MinMaxScaler()\n",
    "X_train_scaled = scaler.fit_transform(X_wineRed_train)\n",
    "X_test_scaled = scaler.transform(X_wineRed_testCV)\n",
    "\n",
    "print('Ridge regression: effect of alpha regularization parameter\\n')\n",
    "for this_alpha in [0,0.01, 0.05, 0.1, 0.5, 1, 10, 20, 50, 100, 1000]:\n",
    "    linridge = Ridge(alpha = this_alpha).fit(X_train_scaled, y_wineRed_train)\n",
    "    r2_train = linridge.score(X_train_scaled, y_wineRed_train)\n",
    "    r2_test = linridge.score(X_test_scaled, y_wineRed_testCV)\n",
    "    num_coeff_bigger = np.sum(abs(linridge.coef_) > 1.0)\n",
    "    print('Alpha = {:.4f}\\nnum abs(coeff) > 1.0: {}, \\\n",
    "r-squared training: {:.4f}, r-squared test: {:.4f}\\n'\n",
    "         .format(this_alpha, num_coeff_bigger, r2_train, r2_test))"
   ]
  },
  {
   "cell_type": "markdown",
   "metadata": {},
   "source": [
    "### LR with Ridge Regression, Normalization, and optimal alpha"
   ]
  },
  {
   "cell_type": "code",
   "execution_count": null,
   "metadata": {},
   "outputs": [],
   "source": [
    "R_Squared_score_training = []\n",
    "R_Squared_score_validation = []\n",
    "RMSE = []\n",
    "\n",
    "count = 1\n",
    "for train_index, test_index in kf.split(X_wineRed_train):\n",
    "\n",
    "    X_train_cv, X_test_cv = X_wineRed_train.iloc[train_index], X_wineRed_train.iloc[test_index]\n",
    "    y_train_cv, y_test_cv = y_wineRed_train.iloc[train_index], y_wineRed_train.iloc[test_index]\n",
    " \n",
    "   \n",
    "    print('round: ', count)\n",
    "    count = count + 1\n",
    "\n",
    "    X_train_scaled = scaler.fit_transform(X_train_cv)\n",
    "    X_test_scaled = scaler.transform(X_test_cv)\n",
    "\n",
    "\n",
    "    linridge = Ridge(alpha=0.1).fit(X_train_scaled, y_train_cv)\n",
    "\n",
    "    print('Red Wine dataset')\n",
    "    print('R-squared score (training): {:.3f}'\n",
    "         .format(linridge.score(X_train_scaled, y_train_cv)))\n",
    "    R_Squared_score_training.append(linridge.score(X_train_scaled, y_train_cv))\n",
    "    print('R-squared score (test): {:.3f}'\n",
    "         .format(linridge.score(X_test_scaled, y_test_cv)))\n",
    "    R_Squared_score_validation.append(linridge.score(X_test_scaled, y_test_cv))\n",
    "\n",
    "    # make predictions on the testing set\n",
    "    y_pred = linreg.predict(X_test_cv)\n",
    "    print('RMSE: {:.3f}'.format(np.sqrt(metrics.mean_squared_error(y_test_cv, y_pred))))\n",
    "    RMSE.append(np.sqrt(metrics.mean_squared_error(y_test_cv, y_pred)))\n",
    "\n",
    "    print('ridge regression linear model intercept: {}'.format(linridge.intercept_))\n",
    "    print('ridge regression linear model coeff:\\n{}'.format(linridge.coef_))\n",
    "\n",
    "    print('Number of non-zero features: {}'.format(np.sum(linridge.coef_ != 0)))\n",
    "    print('******************************************************************')\n",
    "    \n",
    "print(\"Average Red Wine Dataset with Normalization and Optimal Alpha\")\n",
    "R_Squared_score_training_mean = sum(R_Squared_score_training)/10\n",
    "print(\"R-Squared score mean (training): \", R_Squared_score_training_mean)\n",
    "                \n",
    "R_Squared_score_validation_mean = sum(R_Squared_score_validation)/10\n",
    "print(\"R-Squared score mean (validation): \", R_Squared_score_validation_mean)\n",
    "                \n",
    "RMSE_mean = sum(RMSE)/10\n",
    "print(\"RMSE mean: \", RMSE_mean)"
   ]
  },
  {
   "cell_type": "code",
   "execution_count": null,
   "metadata": {},
   "outputs": [],
   "source": [
    "from sklearn.model_selection import learning_curve\n",
    "\n",
    "X_wineRed_train, X_wineRed_testCV, y_wineRed_train, y_wineRed_testCV = train_test_split(X_wineRed_train, y_wineRed_train, test_size=0.2)\n",
    "\n",
    "scaler = MinMaxScaler()\n",
    "X_train_scaled = scaler.fit_transform(X_wineRed_train)\n",
    "X_test_scaled = scaler.transform(X_wineRed_testCV)\n",
    "\n",
    "linridge = Ridge(alpha = 0.1).fit(X_train_scaled, y_wineRed_train)\n",
    "\n",
    "train_sizes = np.linspace(0.2,0.8,10)\n",
    "train_sizes, train_RMSE, test_RMSE = learning_curve(linridge, X_train_cv, y_train_cv, train_sizes = train_sizes, \n",
    "                                scoring='neg_root_mean_squared_error',cv=10, shuffle = True)\n",
    "\n",
    "print(train_RMSE)\n",
    "print(test_RMSE)\n",
    "\n",
    "train_scores_mean = np.mean(train_RMSE, axis=1)\n",
    "test_scores_mean = np.mean(test_RMSE, axis=1)\n",
    "\n",
    "# Plot learning curve\n",
    "fig, ax = plt.subplots(1, 1, figsize=(10, 5))\n",
    "    \n",
    "ax.set_title('LR Ridge with Normalization and Optimal Alpha Learning Curve')\n",
    "ax.set_xlabel(\"Training examples\")\n",
    "ax.set_ylabel(\"Score (neg RMSE)\")\n",
    "ax.grid()\n",
    "\n",
    "ax.plot(train_sizes, train_scores_mean, 'o-', color=\"r\", label=\"Training score\")\n",
    "ax.plot(train_sizes, test_scores_mean, 'o-', color=\"g\", label=\"Cross-validation score\")\n",
    "ax.legend(loc=\"best\")\n",
    "\n",
    "plt.show()"
   ]
  },
  {
   "cell_type": "markdown",
   "metadata": {},
   "source": [
    "### LR with Ridge Regression, Normalization, and optimal alpha using test set"
   ]
  },
  {
   "cell_type": "code",
   "execution_count": null,
   "metadata": {},
   "outputs": [],
   "source": [
    "X_test_scaled = scaler.transform(X_wineRed_test)\n",
    "X_train_scaled = scaler.transform(X_wineRed_train)\n",
    "\n",
    "linridge = Ridge(alpha=1).fit(X_train_scaled, y_wineRed_train)\n",
    "\n",
    "print('White Wine dataset')\n",
    "print('R-squared score (training): {:.3f}'\n",
    "     .format(linridge.score(X_train_scaled, y_wineRed_train)))\n",
    "print('R-squared score (testing): {:.3f}'\n",
    "     .format(linridge.score(X_test_scaled, y_wineRed_test)))\n",
    "\n",
    "# make predictions on the testing set\n",
    "y_pred = linridge.predict(X_test_scaled)\n",
    "print('RMSE: {:.3f}'.format(np.sqrt(metrics.mean_squared_error(y_wineRed_test, y_pred))))\n",
    "\n",
    "print('ridge regression linear model intercept: {}'.format(linridge.intercept_))\n",
    "print('ridge regression linear model coeff:\\n{}'.format(linridge.coef_))\n",
    "\n",
    "print('Number of non-zero features: {}'.format(np.sum(linridge.coef_ != 0)))\n",
    "print('******************************************************************')"
   ]
  },
  {
   "cell_type": "code",
   "execution_count": null,
   "metadata": {},
   "outputs": [],
   "source": [
    "from sklearn.model_selection import learning_curve\n",
    "\n",
    "X_test_scaled = scaler.transform(X_wineRed_test)\n",
    "linridge = Ridge(alpha=1).fit(X_test_scaled, y_wineRed_test)\n",
    "\n",
    "train_sizes = np.linspace(0.2,0.8,10)\n",
    "train_sizes, train_RMSE, test_RMSE = learning_curve(linridge, X_test_scaled, y_wineRed_test, train_sizes = train_sizes, \n",
    "                                scoring='neg_root_mean_squared_error',cv=10, shuffle = True)\n",
    "\n",
    "print(train_RMSE)\n",
    "print(test_RMSE)\n",
    "\n",
    "train_scores_mean = np.mean(train_RMSE, axis=1)\n",
    "test_scores_mean = np.mean(test_RMSE, axis=1)\n",
    "\n",
    "# Plot learning curve\n",
    "fig, ax = plt.subplots(1, 1, figsize=(10, 5))\n",
    "    \n",
    "ax.set_title('Linear Regression Learning Curve')\n",
    "ax.set_xlabel(\"Training examples\")\n",
    "ax.set_ylabel(\"Score (neg RMSE)\")\n",
    "ax.grid()\n",
    "\n",
    "ax.plot(train_sizes, train_scores_mean, 'o-', color=\"r\", label=\"Training score\")\n",
    "ax.plot(train_sizes, test_scores_mean, 'o-', color=\"g\", label=\"Test score\")\n",
    "ax.legend(loc=\"best\")\n",
    "\n",
    "plt.show()"
   ]
  },
  {
   "cell_type": "markdown",
   "metadata": {},
   "source": [
    "### Lasso Regression Model ( L1 Penalty)"
   ]
  },
  {
   "cell_type": "markdown",
   "metadata": {},
   "source": [
    "### White Wine"
   ]
  },
  {
   "cell_type": "markdown",
   "metadata": {},
   "source": [
    "### Optimal Parameter Alpha"
   ]
  },
  {
   "cell_type": "code",
   "execution_count": null,
   "metadata": {},
   "outputs": [],
   "source": [
    "from sklearn.linear_model import Lasso\n",
    "X_wineWhite_train, X_wineWhite_testCV, y_wineWhite_train, y_wineWhite_testCV = train_test_split(X_wineWhite_train, y_wineWhite_train, test_size=0.2)\n",
    "\n",
    "scaler = MinMaxScaler()\n",
    "X_train_scaled = scaler.fit_transform(X_wineWhite_train)\n",
    "X_test_scaled = scaler.transform(X_wineWhite_testCV)\n",
    "\n",
    "print('Lasso regression: effect of alpha regularization\\n\\\n",
    "parameter on number of features kept in final model\\n')\n",
    "\n",
    "for alpha in [0.00005, 0.0001, 0.0005, 0.001,0.005, 0.01, 0.015, 0.02, 0.025, 0.03, 0.035, 0.04, 0.045, 0.05]:\n",
    "    linlasso = Lasso(alpha, max_iter = 100000).fit(X_train_scaled, y_wineWhite_train)\n",
    "    r2_train = linlasso.score(X_train_scaled, y_wineWhite_train)\n",
    "    r2_test = linlasso.score(X_test_scaled, y_wineWhite_testCV)\n",
    "    \n",
    "    print('Alpha = {:.2f}\\nFeatures kept: {}, r-squared training: {:.2f}, \\\n",
    "r-squared test: {:.2f}\\n'\n",
    "         .format(alpha, np.sum(linlasso.coef_ != 0), r2_train, r2_test))"
   ]
  },
  {
   "cell_type": "markdown",
   "metadata": {},
   "source": [
    "### Lasso Regression with Optimal Alpha"
   ]
  },
  {
   "cell_type": "code",
   "execution_count": null,
   "metadata": {},
   "outputs": [],
   "source": [
    "from sklearn.linear_model import Lasso\n",
    "from sklearn.preprocessing import MinMaxScaler\n",
    "scaler = MinMaxScaler()\n",
    "\n",
    "R_Squared_score_training = []\n",
    "R_Squared_score_validation = []\n",
    "RMSE = []\n",
    "\n",
    "count = 1\n",
    "for train_index, test_index in kf.split(X_wineWhite_train):\n",
    "\n",
    "    X_train_cv, X_test_cv = X_wineWhite_train.iloc[train_index], X_wineWhite_train.iloc[test_index]\n",
    "    y_train_cv, y_test_cv = y_wineWhite_train.iloc[train_index], y_wineWhite_train.iloc[test_index]\n",
    " \n",
    "   \n",
    "    print('round: ', count)\n",
    "    count = count + 1\n",
    "\n",
    "    X_train_scaled = scaler.fit_transform(X_train_cv)\n",
    "    X_test_scaled = scaler.transform(X_test_cv)\n",
    "\n",
    "    linlasso = Lasso(alpha=0.01, max_iter = 10000).fit(X_train_scaled, y_train_cv)\n",
    "\n",
    "    print('White wine dataset')\n",
    "\n",
    "    print('R-squared score (training): {:.3f}'\n",
    "         .format(linlasso.score(X_train_scaled, y_train_cv)))\n",
    "    R_Squared_score_training.append(linlasso.score(X_train_scaled, y_train_cv))\n",
    "    print('R-squared score (test): {:.3f}\\n'\n",
    "         .format(linlasso.score(X_test_scaled, y_test_cv)))\n",
    "    R_Squared_score_validation.append(linlasso.score(X_test_scaled, y_test_cv))\n",
    "\n",
    "    # make predictions on the testing set\n",
    "    y_pred = linreg.predict(X_test_cv)\n",
    "    print('RMSE: {:.3f}'.format(np.sqrt(metrics.mean_squared_error(y_test_cv, y_pred))))\n",
    "    RMSE.append(np.sqrt(metrics.mean_squared_error(y_test_cv, y_pred)))\n",
    "\n",
    "    print('lasso regression linear model intercept: {}'.format(linlasso.intercept_))\n",
    "    print('lasso regression linear model coeff:\\n{}'.format(linlasso.coef_))\n",
    "\n",
    "    print('Non-zero features: {}'.format(np.sum(linlasso.coef_ != 0)))\n",
    "\n",
    "    print('Features with non-zero weight (sorted by absolute magnitude):')\n",
    "    for e in sorted (list(zip(list(X_wineWhite_train), linlasso.coef_)),\n",
    "                    key = lambda e: -abs(e[1])):\n",
    "        if e[1] != 0:\n",
    "            print('\\t{}, {:.3f}'.format(e[0], e[1]))\n",
    "\n",
    "    print('******************************************************************')\n",
    "    \n",
    "print('Average White Wine')\n",
    "print('R-Squared (training): {:.3f}'.format(sum(R_Squared_score_training)/10))\n",
    "print('R-Squared (testing): {:.3f}'.format(sum(R_Squared_score_validation)/10))\n",
    "print('RMSE: {:.3f}'.format(sum(RMSE)/10))\n",
    "\n",
    "\n",
    "\n"
   ]
  },
  {
   "cell_type": "code",
   "execution_count": null,
   "metadata": {
    "scrolled": true
   },
   "outputs": [],
   "source": [
    "from sklearn.model_selection import learning_curve\n",
    "\n",
    "X_wineWhite_trainCV, X_wineWhite_testCV, y_wineWhite_trainCV, y_wineWhite_testCV = train_test_split(X_wineWhite_train, y_wineWhite_train, test_size=0.2)\n",
    "\n",
    "scaler = MinMaxScaler()\n",
    "X_train_scaled = scaler.fit_transform(X_wineWhite_trainCV)\n",
    "X_test_scaled = scaler.transform(X_wineWhite_testCV)\n",
    "\n",
    "linLasso = Lasso(alpha = 0.01).fit(X_train_scaled, y_wineWhite_trainCV)\n",
    "\n",
    "train_sizes = np.linspace(0.2,0.8,10)\n",
    "train_sizes, train_RMSE, test_RMSE = learning_curve(linLasso, X_train_scaled, y_wineWhite_trainCV, train_sizes = train_sizes, \n",
    "                                scoring='neg_root_mean_squared_error',cv=10, shuffle = True)\n",
    "\n",
    "print(train_RMSE)\n",
    "print(test_RMSE)\n",
    "\n",
    "train_scores_mean = np.mean(train_RMSE, axis=1)\n",
    "test_scores_mean = np.mean(test_RMSE, axis=1)\n",
    "\n",
    "# Plot learning curve\n",
    "fig, ax = plt.subplots(1, 1, figsize=(10, 5))\n",
    "    \n",
    "ax.set_title('LR Ridge with Normalization and Optimal Alpha Learning Curve')\n",
    "ax.set_xlabel(\"Training examples\")\n",
    "ax.set_ylabel(\"Score (neg RMSE)\")\n",
    "ax.grid()\n",
    "\n",
    "ax.plot(train_sizes, train_scores_mean, 'o-', color=\"r\", label=\"Training score\")\n",
    "ax.plot(train_sizes, test_scores_mean, 'o-', color=\"g\", label=\"Cross-validation score\")\n",
    "ax.legend(loc=\"best\")\n",
    "\n",
    "plt.show()"
   ]
  },
  {
   "cell_type": "markdown",
   "metadata": {},
   "source": [
    "### Lasso Regression with Optimal Alpha using Test Set"
   ]
  },
  {
   "cell_type": "code",
   "execution_count": null,
   "metadata": {},
   "outputs": [],
   "source": [
    "from sklearn.linear_model import Lasso\n",
    "from sklearn.preprocessing import MinMaxScaler\n",
    "scaler = MinMaxScaler()\n",
    "\n",
    "X_train_scaled = scaler.fit_transform(X_wineWhite_train)\n",
    "X_test_scaled = scaler.fit_transform(X_wineWhite_test)\n",
    "\n",
    "linlasso = Lasso(alpha=0.01, max_iter = 10000).fit(X_train_scaled, y_wineWhite_train)\n",
    "\n",
    "print('White Wine dataset')\n",
    "print('R-squared score (training): {:.3f}\\n'\n",
    "     .format(linlasso.score(X_train_scaled, y_wineWhite_train)))\n",
    "print('R-squared score (test): {:.3f}\\n'\n",
    "     .format(linlasso.score(X_test_scaled, y_wineWhite_test)))\n",
    "\n",
    "# make predictions on the testing set\n",
    "y_pred = linreg.predict(X_test_scaled)\n",
    "print('RMSE: {:.3f}'.format(np.sqrt(metrics.mean_squared_error(y_wineWhite_test, y_pred))))\n",
    "\n",
    "print('lasso regression linear model intercept: {}'.format(linlasso.intercept_))\n",
    "print('lasso regression linear model coeff:\\n{}'.format(linlasso.coef_))\n",
    "\n",
    "print('Non-zero features: {}'.format(np.sum(linlasso.coef_ != 0)))\n",
    "\n",
    "print('Features with non-zero weight (sorted by absolute magnitude):')\n",
    "for e in sorted (list(zip(list(X_wineWhite_train), linlasso.coef_)),\n",
    "                key = lambda e: -abs(e[1])):\n",
    "    if e[1] != 0:\n",
    "        print('\\t{}, {:.3f}'.format(e[0], e[1]))\n",
    "print('******************************************************************')\n",
    "\n"
   ]
  },
  {
   "cell_type": "code",
   "execution_count": null,
   "metadata": {},
   "outputs": [],
   "source": [
    "from sklearn.model_selection import learning_curve\n",
    "\n",
    "X_test_scaled = scaler.transform(X_wineWhite_test)\n",
    "linLasso = Lasso(alpha=0.01).fit(X_test_scaled, y_wineWhite_test)\n",
    "\n",
    "train_sizes = np.linspace(0.2,0.8,10)\n",
    "train_sizes, train_RMSE, test_RMSE = learning_curve(linLasso, X_test_scaled, y_wineWhite_test, train_sizes = train_sizes, \n",
    "                                scoring='neg_root_mean_squared_error',cv=10, shuffle = True)\n",
    "\n",
    "print(train_RMSE)\n",
    "print(test_RMSE)\n",
    "\n",
    "train_scores_mean = np.mean(train_RMSE, axis=1)\n",
    "test_scores_mean = np.mean(test_RMSE, axis=1)\n",
    "\n",
    "# Plot learning curve\n",
    "fig, ax = plt.subplots(1, 1, figsize=(10, 5))\n",
    "    \n",
    "ax.set_title('Linear Regression with Lasso Regularization Learning Curve')\n",
    "ax.set_xlabel(\"Training examples\")\n",
    "ax.set_ylabel(\"Score (neg RMSE)\")\n",
    "ax.grid()\n",
    "\n",
    "ax.plot(train_sizes, train_scores_mean, 'o-', color=\"r\", label=\"Training score\")\n",
    "ax.plot(train_sizes, test_scores_mean, 'o-', color=\"g\", label=\"Test score\")\n",
    "ax.legend(loc=\"best\")\n",
    "\n",
    "plt.show()"
   ]
  },
  {
   "cell_type": "markdown",
   "metadata": {},
   "source": [
    "### Red Wine"
   ]
  },
  {
   "cell_type": "markdown",
   "metadata": {},
   "source": [
    "### Optimal Parameter Alpha"
   ]
  },
  {
   "cell_type": "code",
   "execution_count": null,
   "metadata": {},
   "outputs": [],
   "source": [
    "from sklearn.linear_model import Lasso\n",
    "X_wineRed_train, X_wineRed_testCV, y_wineRed_train, y_wineRed_testCV = train_test_split(X_wineRed_train, y_wineRed_train, test_size=0.2)\n",
    "\n",
    "scaler = MinMaxScaler()\n",
    "X_train_scaled = scaler.fit_transform(X_wineRed_train)\n",
    "X_test_scaled = scaler.transform(X_wineRed_testCV)\n",
    "\n",
    "print('Lasso regression: effect of alpha regularization\\n\\\n",
    "parameter on number of features kept in final model\\n')\n",
    "\n",
    "for alpha in [0.00005, 0.0001, 0.0005, 0.001,0.005, 0.01, 0.015, 0.02, 0.025, 0.03, 0.035, 0.04, 0.045, 0.05]:\n",
    "    linlasso = Lasso(alpha, max_iter = 100000).fit(X_train_scaled, y_wineRed_train)\n",
    "    r2_train = linlasso.score(X_train_scaled, y_wineRed_train)\n",
    "    r2_test = linlasso.score(X_test_scaled, y_wineRed_testCV)\n",
    "    \n",
    "    print('Alpha = {:.2f}\\nFeatures kept: {}, r-squared training: {:.2f}, \\\n",
    "r-squared test: {:.2f}\\n'\n",
    "         .format(alpha, np.sum(linlasso.coef_ != 0), r2_train, r2_test))"
   ]
  },
  {
   "cell_type": "markdown",
   "metadata": {},
   "source": [
    "### Lasso Regression with Optimal Alpha"
   ]
  },
  {
   "cell_type": "code",
   "execution_count": null,
   "metadata": {},
   "outputs": [],
   "source": [
    "from sklearn.linear_model import Lasso\n",
    "from sklearn.preprocessing import MinMaxScaler\n",
    "scaler = MinMaxScaler()\n",
    "\n",
    "R_Squared_score_training = []\n",
    "R_Squared_score_validation = []\n",
    "RMSE = []\n",
    "\n",
    "count = 1\n",
    "for train_index, test_index in kf.split(X_wineRed_train):\n",
    "\n",
    "    X_train_cv, X_test_cv = X_wineRed_train.iloc[train_index], X_wineRed_train.iloc[test_index]\n",
    "    y_train_cv, y_test_cv = y_wineRed_train.iloc[train_index], y_wineRed_train.iloc[test_index]\n",
    " \n",
    "   \n",
    "    print('round: ', count)\n",
    "    count = count + 1\n",
    "\n",
    "    X_train_scaled = scaler.fit_transform(X_train_cv)\n",
    "    X_test_scaled = scaler.transform(X_test_cv)\n",
    "\n",
    "    linlasso = Lasso(alpha=0.01, max_iter = 10000).fit(X_train_scaled, y_train_cv)\n",
    "\n",
    "    print('Wine dataset')\n",
    "\n",
    "    print('R-squared score (training): {:.3f}'\n",
    "         .format(linlasso.score(X_train_scaled, y_train_cv)))\n",
    "    R_Squared_score_training.append(linlasso.score(X_train_scaled, y_train_cv))\n",
    "    print('R-squared score (test): {:.3f}\\n'\n",
    "         .format(linlasso.score(X_test_scaled, y_test_cv)))\n",
    "    R_Squared_score_validation.append(linlasso.score(X_test_scaled, y_test_cv))\n",
    "\n",
    "    # make predictions on the testing set\n",
    "    y_pred = linreg.predict(X_test_cv)\n",
    "    print('RMSE: {:.3f}'.format(np.sqrt(metrics.mean_squared_error(y_test_cv, y_pred))))\n",
    "    RMSE.append(np.sqrt(metrics.mean_squared_error(y_test_cv, y_pred)))\n",
    "\n",
    "    print('lasso regression linear model intercept: {}'.format(linlasso.intercept_))\n",
    "    print('lasso regression linear model coeff:\\n{}'.format(linlasso.coef_))\n",
    "\n",
    "    print('Non-zero features: {}'.format(np.sum(linlasso.coef_ != 0)))\n",
    "\n",
    "    print('Features with non-zero weight (sorted by absolute magnitude):')\n",
    "    for e in sorted (list(zip(list(X_wineRed_train), linlasso.coef_)),\n",
    "                    key = lambda e: -abs(e[1])):\n",
    "        if e[1] != 0:\n",
    "            print('\\t{}, {:.3f}'.format(e[0], e[1]))\n",
    "    print('******************************************************************')\n",
    "\n",
    "print('Average Red Wine')\n",
    "print('R-Squared (training): {:.3f}'.format(sum(R_Squared_score_training)/10))\n",
    "print('R-Squared (testing): {:.3f}'.format(sum(R_Squared_score_validation)/10))\n",
    "print('RMSE: {:.3f}'.format(sum(RMSE)/10))"
   ]
  },
  {
   "cell_type": "code",
   "execution_count": null,
   "metadata": {},
   "outputs": [],
   "source": [
    "from sklearn.model_selection import learning_curve\n",
    "\n",
    "X_wineRed_trainCV, X_wineRed_testCV, y_wineRed_trainCV, y_wineRed_testCV = train_test_split(X_wineRed_train, y_wineRed_train, test_size=0.2)\n",
    "\n",
    "scaler = MinMaxScaler()\n",
    "X_train_scaled = scaler.fit_transform(X_wineRed_trainCV)\n",
    "X_test_scaled = scaler.transform(X_wineRed_testCV)\n",
    "\n",
    "linLasso = Lasso(alpha = 0.01).fit(X_train_scaled, y_wineRed_trainCV)\n",
    "\n",
    "train_sizes = np.linspace(0.2,0.8,10)\n",
    "train_sizes, train_RMSE, test_RMSE = learning_curve(linLasso, X_train_scaled, y_wineRed_trainCV, train_sizes = train_sizes, \n",
    "                                scoring='neg_root_mean_squared_error',cv=10, shuffle = True)\n",
    "\n",
    "print(train_RMSE)\n",
    "print(test_RMSE)\n",
    "\n",
    "train_scores_mean = np.mean(train_RMSE, axis=1)\n",
    "test_scores_mean = np.mean(test_RMSE, axis=1)\n",
    "\n",
    "# Plot learning curve\n",
    "fig, ax = plt.subplots(1, 1, figsize=(10, 5))\n",
    "    \n",
    "ax.set_title('LR Ridge with Normalization and Optimal Alpha Learning Curve')\n",
    "ax.set_xlabel(\"Training examples\")\n",
    "ax.set_ylabel(\"Score (neg RMSE)\")\n",
    "ax.grid()\n",
    "\n",
    "ax.plot(train_sizes, train_scores_mean, 'o-', color=\"r\", label=\"Training score\")\n",
    "ax.plot(train_sizes, test_scores_mean, 'o-', color=\"g\", label=\"Cross-validation score\")\n",
    "ax.legend(loc=\"best\")\n",
    "\n",
    "plt.show()"
   ]
  },
  {
   "cell_type": "markdown",
   "metadata": {},
   "source": [
    "### Lasso Regression with Optimal Alpha Using Test Set"
   ]
  },
  {
   "cell_type": "code",
   "execution_count": null,
   "metadata": {},
   "outputs": [],
   "source": [
    "from sklearn.linear_model import Lasso\n",
    "from sklearn.preprocessing import MinMaxScaler\n",
    "scaler = MinMaxScaler()\n",
    "\n",
    "X_train_scaled = scaler.fit_transform(X_wineRed_train)\n",
    "X_test_scaled = scaler.fit_transform(X_wineRed_test)\n",
    "\n",
    "linlasso = Lasso(alpha=0.01, max_iter = 10000).fit(X_train_scaled, y_wineRed_train)\n",
    "\n",
    "print('Red Wine dataset')\n",
    "print('R-squared score (train): {:.3f}\\n'\n",
    "     .format(linlasso.score(X_train_scaled, y_wineRed_train)))\n",
    "print('R-squared score (test): {:.3f}\\n'\n",
    "     .format(linlasso.score(X_test_scaled, y_wineRed_test)))\n",
    "\n",
    "# make predictions on the testing set\n",
    "y_pred = linreg.predict(X_test_scaled)\n",
    "print('RMSE: {:.3f}'.format(np.sqrt(metrics.mean_squared_error(y_wineRed_test, y_pred))))\n",
    "\n",
    "print('lasso regression linear model intercept: {}'.format(linlasso.intercept_))\n",
    "print('lasso regression linear model coeff:\\n{}'.format(linlasso.coef_))\n",
    "\n",
    "print('Non-zero features: {}'.format(np.sum(linlasso.coef_ != 0)))\n",
    "\n",
    "print('Features with non-zero weight (sorted by absolute magnitude):')\n",
    "for e in sorted (list(zip(list(X_wineWhite_train), linlasso.coef_)),\n",
    "                key = lambda e: -abs(e[1])):\n",
    "    if e[1] != 0:\n",
    "        print('\\t{}, {:.3f}'.format(e[0], e[1]))\n",
    "print('******************************************************************')"
   ]
  },
  {
   "cell_type": "code",
   "execution_count": null,
   "metadata": {},
   "outputs": [],
   "source": [
    "from sklearn.model_selection import learning_curve\n",
    "\n",
    "X_test_scaled = scaler.transform(X_wineRed_test)\n",
    "linLasso = Lasso(alpha=0.01).fit(X_test_scaled, y_wineRed_test)\n",
    "\n",
    "train_sizes = np.linspace(0.2,0.8,10)\n",
    "train_sizes, train_RMSE, test_RMSE = learning_curve(linLasso, X_test_scaled, y_wineRed_test, train_sizes = train_sizes, \n",
    "                                scoring='neg_root_mean_squared_error',cv=10, shuffle = True)\n",
    "\n",
    "print(train_RMSE)\n",
    "print(test_RMSE)\n",
    "\n",
    "train_scores_mean = np.mean(train_RMSE, axis=1)\n",
    "test_scores_mean = np.mean(test_RMSE, axis=1)\n",
    "\n",
    "# Plot learning curve\n",
    "fig, ax = plt.subplots(1, 1, figsize=(10, 5))\n",
    "    \n",
    "ax.set_title('Linear Regression with Lasso Regularization Learning Curve')\n",
    "ax.set_xlabel(\"Training examples\")\n",
    "ax.set_ylabel(\"Score (neg RMSE)\")\n",
    "ax.grid()\n",
    "\n",
    "ax.plot(train_sizes, train_scores_mean, 'o-', color=\"r\", label=\"Training score\")\n",
    "ax.plot(train_sizes, test_scores_mean, 'o-', color=\"g\", label=\"Test score\")\n",
    "ax.legend(loc=\"best\")\n",
    "\n",
    "plt.show()"
   ]
  },
  {
   "cell_type": "markdown",
   "metadata": {},
   "source": [
    "### Polynomial Regression Models"
   ]
  },
  {
   "cell_type": "markdown",
   "metadata": {},
   "source": [
    "### White Wine"
   ]
  },
  {
   "cell_type": "markdown",
   "metadata": {},
   "source": [
    "(1) Training and Validation Set"
   ]
  },
  {
   "cell_type": "code",
   "execution_count": null,
   "metadata": {},
   "outputs": [],
   "source": [
    "from sklearn.preprocessing import PolynomialFeatures\n",
    "\n",
    "print('White Wine dataset')\n",
    "X_train, X_test, y_train, y_test = train_test_split(X_wineWhite_train, y_wineWhite_train, random_state=0)\n",
    "\n",
    "for d in [1,2,3,4,5,6,7,8]:\n",
    "    print('Polynomial Regression Degree: {}'.format(d))\n",
    "    polynomial_features = PolynomialFeatures(degree=d)\n",
    "    X_poly_train = polynomial_features.fit_transform(X_train)\n",
    "    X_poly_test = polynomial_features.transform(X_test)\n",
    "    PolyReg = LinearRegression()\n",
    "    PolyReg.fit(X_poly_train, y_train)\n",
    "    print('\\t R-squared score (training): {:.3f}'\n",
    "         .format(PolyReg.score(X_poly_train, y_train)))\n",
    "    print('\\t R-squared score (test): {:.3f}'\n",
    "         .format(PolyReg.score(X_poly_test, y_test)))\n",
    "    # make predictions on the testing set\n",
    "    y_pred = PolyReg.predict(X_poly_test)\n",
    "    print('\\t RMSE: {:.3f}'.format(np.sqrt(metrics.mean_squared_error(y_test, y_pred))))"
   ]
  },
  {
   "cell_type": "markdown",
   "metadata": {},
   "source": [
    "(2) Test Set"
   ]
  },
  {
   "cell_type": "code",
   "execution_count": null,
   "metadata": {},
   "outputs": [],
   "source": [
    "from sklearn.preprocessing import PolynomialFeatures\n",
    "\n",
    "print('White Wine dataset')\n",
    "# X_train, X_test, y_train, y_test = train_test_split(X_wineWhite_test, y_wineWhite_train, random_state=0)\n",
    "\n",
    "# for d in [1,2,3,4,5,6,7,8]:\n",
    "print('Polynomial Regression Degree: {}'.format(1))\n",
    "polynomial_features = PolynomialFeatures(degree=1)\n",
    "X_poly_train = polynomial_features.fit_transform(X_wineWhite_train)\n",
    "X_poly_test = polynomial_features.transform(X_wineWhite_test)\n",
    "PolyReg = LinearRegression()\n",
    "PolyReg.fit(X_poly_train, y_wineWhite_train)\n",
    "print('\\t R-squared score (training): {:.3f}'\n",
    "     .format(PolyReg.score(X_poly_train, y_wineWhite_train)))\n",
    "print('\\t R-squared score (test): {:.3f}'\n",
    "     .format(PolyReg.score(X_poly_test, y_wineWhite_test)))\n",
    "# make predictions on the testing set\n",
    "y_pred = PolyReg.predict(X_poly_test)\n",
    "print('\\t RMSE: {:.3f}'.format(np.sqrt(metrics.mean_squared_error(y_wineWhite_test, y_pred))))"
   ]
  },
  {
   "cell_type": "markdown",
   "metadata": {},
   "source": [
    "### Red Wine"
   ]
  },
  {
   "cell_type": "markdown",
   "metadata": {},
   "source": [
    "(1) Training - Validation Set"
   ]
  },
  {
   "cell_type": "code",
   "execution_count": null,
   "metadata": {},
   "outputs": [],
   "source": [
    "from sklearn.preprocessing import PolynomialFeatures\n",
    "print('Red Wine dataset')\n",
    "X_train, X_test, y_train, y_test = train_test_split(X_wineRed_train, y_wineRed_train, random_state=0)\n",
    "for d in [1,2,3,4,5,6,7,8]:\n",
    "    print('Polynomial Regression Degree: {}'.format(d))\n",
    "    polynomial_features = PolynomialFeatures(degree=d)\n",
    "    X_poly_train = polynomial_features.fit_transform(X_train)\n",
    "    X_poly_test = polynomial_features.transform(X_test)\n",
    "    PolyReg = LinearRegression()\n",
    "    PolyReg.fit(X_poly_train, y_train)\n",
    "    print('\\t R-squared score (training): {:.3f}'\n",
    "         .format(PolyReg.score(X_poly_train, y_train)))\n",
    "    print('\\t R-squared score (test): {:.3f}'\n",
    "         .format(PolyReg.score(X_poly_test, y_test)))\n",
    "    # make predictions on the testing set\n",
    "    y_pred = PolyReg.predict(X_poly_test)\n",
    "    print('\\t RMSE: {:.3f}'.format(np.sqrt(metrics.mean_squared_error(y_test, y_pred))))"
   ]
  },
  {
   "cell_type": "markdown",
   "metadata": {},
   "source": [
    "(2) Testing Set"
   ]
  },
  {
   "cell_type": "code",
   "execution_count": null,
   "metadata": {},
   "outputs": [],
   "source": [
    "from sklearn.preprocessing import PolynomialFeatures\n",
    "\n",
    "print('White Wine dataset')\n",
    "# X_train, X_test, y_train, y_test = train_test_split(X_wineWhite_test, y_wineWhite_train, random_state=0)\n",
    "\n",
    "# for d in [1,2,3,4,5,6,7,8]:\n",
    "print('Polynomial Regression Degree: {}'.format(1))\n",
    "polynomial_features = PolynomialFeatures(degree=1)\n",
    "X_poly_train = polynomial_features.fit_transform(X_wineRed_train)\n",
    "X_poly_test = polynomial_features.transform(X_wineRed_test)\n",
    "PolyReg = LinearRegression()\n",
    "PolyReg.fit(X_poly_train, y_wineRed_train)\n",
    "print('\\t R-squared score (training): {:.3f}'\n",
    "     .format(PolyReg.score(X_poly_train, y_wineRed_train)))\n",
    "print('\\t R-squared score (test): {:.3f}'\n",
    "     .format(PolyReg.score(X_poly_test, y_wineRed_test)))\n",
    "# make predictions on the testing set\n",
    "y_pred = PolyReg.predict(X_poly_test)\n",
    "print('\\t RMSE: {:.3f}'.format(np.sqrt(metrics.mean_squared_error(y_wineRed_test, y_pred))))"
   ]
  },
  {
   "cell_type": "code",
   "execution_count": null,
   "metadata": {},
   "outputs": [],
   "source": []
  },
  {
   "cell_type": "code",
   "execution_count": null,
   "metadata": {},
   "outputs": [],
   "source": []
  },
  {
   "cell_type": "code",
   "execution_count": null,
   "metadata": {},
   "outputs": [],
   "source": []
  }
 ],
 "metadata": {
  "kernelspec": {
   "display_name": "Python 3",
   "language": "python",
   "name": "python3"
  },
  "language_info": {
   "codemirror_mode": {
    "name": "ipython",
    "version": 3
   },
   "file_extension": ".py",
   "mimetype": "text/x-python",
   "name": "python",
   "nbconvert_exporter": "python",
   "pygments_lexer": "ipython3",
   "version": "3.7.7"
  }
 },
 "nbformat": 4,
 "nbformat_minor": 4
}
